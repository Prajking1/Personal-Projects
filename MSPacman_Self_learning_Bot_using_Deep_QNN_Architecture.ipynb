{
  "nbformat": 4,
  "nbformat_minor": 0,
  "metadata": {
    "colab": {
      "name": "MSPacman  Self-learning Bot using Deep-QNN Architecture.ipynb",
      "provenance": [],
      "collapsed_sections": []
    },
    "kernelspec": {
      "name": "python3",
      "display_name": "Python 3"
    },
    "accelerator": "GPU"
  },
  "cells": [
    {
      "cell_type": "code",
      "metadata": {
        "id": "VL6xZBRrHAka"
      },
      "source": [
        "!apt-get install -y xvfb python-opengl > /dev/null 2>&1\n"
      ],
      "execution_count": null,
      "outputs": []
    },
    {
      "cell_type": "code",
      "metadata": {
        "id": "sCELFpGCHEtj"
      },
      "source": [
        "!pip install gym pyvirtualdisplay > /dev/null 2>&1"
      ],
      "execution_count": null,
      "outputs": []
    },
    {
      "cell_type": "code",
      "metadata": {
        "id": "Ko2tyAdbHg7W"
      },
      "source": [
        "import gym\n",
        "import numpy as np\n",
        "import matplotlib.pyplot as plt\n",
        "from IPython import display as ipythondisplay"
      ],
      "execution_count": null,
      "outputs": []
    },
    {
      "cell_type": "code",
      "metadata": {
        "id": "LWOSSm-LHl22",
        "outputId": "d5e8b197-7887-4a8f-9095-d99fdc746697",
        "colab": {
          "base_uri": "https://localhost:8080/",
          "height": 72
        }
      },
      "source": [
        "from pyvirtualdisplay import Display\n",
        "display = Display(visible=0, size=(400, 300))\n",
        "display.start()"
      ],
      "execution_count": null,
      "outputs": [
        {
          "output_type": "stream",
          "text": [
            "W0711 03:48:19.119800 140295069276032 abstractdisplay.py:151] xdpyinfo was not found, X start can not be checked! Please install xdpyinfo!\n"
          ],
          "name": "stderr"
        },
        {
          "output_type": "execute_result",
          "data": {
            "text/plain": [
              "<Display cmd_param=['Xvfb', '-br', '-nolisten', 'tcp', '-screen', '0', '400x300x24', ':1031'] cmd=['Xvfb', '-br', '-nolisten', 'tcp', '-screen', '0', '400x300x24', ':1031'] oserror=None return_code=None stdout=\"None\" stderr=\"None\" timeout_happened=False>"
            ]
          },
          "metadata": {
            "tags": []
          },
          "execution_count": 34
        }
      ]
    },
    {
      "cell_type": "code",
      "metadata": {
        "id": "8SKLiAKvHtF5",
        "outputId": "44c7ac34-c7a0-4f5b-fe9a-f222bb1503af",
        "colab": {
          "base_uri": "https://localhost:8080/",
          "height": 269
        }
      },
      "source": [
        "env = gym.make(\"CartPole-v0\")\n",
        "env.reset()\n",
        "prev_screen = env.render(mode='rgb_array')\n",
        "plt.imshow(prev_screen)\n",
        "\n",
        "for i in range(5000):\n",
        "  action = env.action_space.sample()\n",
        "  obs, reward, done, info = env.step(action)\n",
        "  screen = env.render(mode='rgb_array')\n",
        "\n",
        "  plt.imshow(screen)\n",
        "  ipythondisplay.clear_output(wait=True)\n",
        "  ipythondisplay.display(plt.gcf())\n",
        "\n",
        "  if done:\n",
        "    break\n",
        "\n",
        "ipythondisplay.clear_output(wait=True)\n",
        "env.close()"
      ],
      "execution_count": null,
      "outputs": [
        {
          "output_type": "display_data",
          "data": {
            "image/png": "[encoded data removed]",
            "text/plain": [
              "<Figure size 432x288 with 1 Axes>"
            ]
          },
          "metadata": {
            "tags": []
          }
        }
      ]
    },
    {
      "cell_type": "code",
      "metadata": {
        "id": "zW_P4sRXHyBf"
      },
      "source": [
        "env = gym.make('MsPacman-v0')\n",
        "obs =env.reset()"
      ],
      "execution_count": null,
      "outputs": []
    },
    {
      "cell_type": "code",
      "metadata": {
        "id": "9FiPEwN5IJ80",
        "outputId": "83050251-5751-413e-b9e4-1b50d978e65e",
        "colab": {
          "base_uri": "https://localhost:8080/",
          "height": 34
        }
      },
      "source": [
        "env.action_space"
      ],
      "execution_count": null,
      "outputs": [
        {
          "output_type": "execute_result",
          "data": {
            "text/plain": [
              "Discrete(9)"
            ]
          },
          "metadata": {
            "tags": []
          },
          "execution_count": 37
        }
      ]
    },
    {
      "cell_type": "code",
      "metadata": {
        "id": "OgYHxQybIOsi"
      },
      "source": [
        "mspacman_color = np.array([210,164,74]).mean()"
      ],
      "execution_count": null,
      "outputs": []
    },
    {
      "cell_type": "code",
      "metadata": {
        "id": "_e0oyxDhIUr7",
        "outputId": "3bc730f4-f2e5-4412-8d22-dfb2b817d4a1",
        "colab": {
          "base_uri": "https://localhost:8080/",
          "height": 34
        }
      },
      "source": [
        "obs.shape"
      ],
      "execution_count": null,
      "outputs": [
        {
          "output_type": "execute_result",
          "data": {
            "text/plain": [
              "(210, 160, 3)"
            ]
          },
          "metadata": {
            "tags": []
          },
          "execution_count": 39
        }
      ]
    },
    {
      "cell_type": "code",
      "metadata": {
        "id": "5P0QVvsBIaS0",
        "outputId": "4d94587b-5195-4c97-e82b-60eb9836bb21",
        "colab": {
          "base_uri": "https://localhost:8080/",
          "height": 868
        }
      },
      "source": [
        "env.render(mode=\"rgb_array\")"
      ],
      "execution_count": null,
      "outputs": [
        {
          "output_type": "execute_result",
          "data": {
            "text/plain": [
              "array([[[  0,   0,   0],\n",
              "        [  0,   0,   0],\n",
              "        [  0,   0,   0],\n",
              "        ...,\n",
              "        [  0,   0,   0],\n",
              "        [  0,   0,   0],\n",
              "        [  0,   0,   0]],\n",
              "\n",
              "       [[228, 111, 111],\n",
              "        [228, 111, 111],\n",
              "        [228, 111, 111],\n",
              "        ...,\n",
              "        [228, 111, 111],\n",
              "        [228, 111, 111],\n",
              "        [228, 111, 111]],\n",
              "\n",
              "       [[228, 111, 111],\n",
              "        [228, 111, 111],\n",
              "        [228, 111, 111],\n",
              "        ...,\n",
              "        [228, 111, 111],\n",
              "        [228, 111, 111],\n",
              "        [228, 111, 111]],\n",
              "\n",
              "       ...,\n",
              "\n",
              "       [[  0,   0,   0],\n",
              "        [  0,   0,   0],\n",
              "        [  0,   0,   0],\n",
              "        ...,\n",
              "        [  0,   0,   0],\n",
              "        [  0,   0,   0],\n",
              "        [  0,   0,   0]],\n",
              "\n",
              "       [[  0,   0,   0],\n",
              "        [  0,   0,   0],\n",
              "        [  0,   0,   0],\n",
              "        ...,\n",
              "        [  0,   0,   0],\n",
              "        [  0,   0,   0],\n",
              "        [  0,   0,   0]],\n",
              "\n",
              "       [[  0,   0,   0],\n",
              "        [  0,   0,   0],\n",
              "        [  0,   0,   0],\n",
              "        ...,\n",
              "        [  0,   0,   0],\n",
              "        [  0,   0,   0],\n",
              "        [  0,   0,   0]]], dtype=uint8)"
            ]
          },
          "metadata": {
            "tags": []
          },
          "execution_count": 40
        }
      ]
    },
    {
      "cell_type": "code",
      "metadata": {
        "id": "AGNBHVXNIdmP"
      },
      "source": [
        "mspacman_color = 210 + 164 + 74\n",
        "\n",
        "def preprocess_observation(obs):\n",
        "    img = obs[1:176:2, ::2]\n",
        "    img = img.sum(axis=2)\n",
        "    img[img==mspacman_color] = 0\n",
        "    img = (img // 3 - 128).astype(np.int8)\n",
        "    return img.reshape(88, 80, 1)\n",
        "\n",
        "img = preprocess_observation(obs)"
      ],
      "execution_count": null,
      "outputs": []
    },
    {
      "cell_type": "code",
      "metadata": {
        "id": "-LDJHcYwIh_3",
        "outputId": "21710456-e5ca-4ea9-d7f5-e6a9b2e2d112",
        "colab": {
          "base_uri": "https://localhost:8080/",
          "height": 430
        }
      },
      "source": [
        "plt.figure(figsize=(11, 7))\n",
        "plt.subplot(121)\n",
        "plt.title(\"Original observation (160×210 RGB)\")\n",
        "plt.imshow(obs)\n",
        "plt.axis(\"off\")\n",
        "plt.subplot(122)\n",
        "plt.title(\"Preprocessed observation (88×80 greyscale)\")\n",
        "plt.imshow(img.reshape(88, 80), interpolation=\"nearest\", cmap=\"gray\")\n",
        "plt.axis(\"off\")\n",
        "\n",
        "plt.show()"
      ],
      "execution_count": null,
      "outputs": [
        {
          "output_type": "display_data",
          "data": {
            "image/png": "[encoded data removed]",
            "text/plain": [
              "<Figure size 792x504 with 2 Axes>"
            ]
          },
          "metadata": {
            "tags": []
          }
        }
      ]
    },
    {
      "cell_type": "code",
      "metadata": {
        "id": "CG3amCF9VDvG"
      },
      "source": [
        "def plot_environment(env, figsize=(5,4)):\n",
        "    plt.close()  \n",
        "    plt.figure(figsize=figsize)\n",
        "    img = env.render(mode=\"rgb_array\")\n",
        "    plt.imshow(img)\n",
        "    plt.axis(\"off\")\n",
        "    plt.show()\n"
      ],
      "execution_count": null,
      "outputs": []
    },
    {
      "cell_type": "code",
      "metadata": {
        "id": "6JIQSfuPVVW6"
      },
      "source": [
        "env.reset()\n",
        "for step in range(110):\n",
        "    env.step(3) #left\n",
        "for step in range(40):\n",
        "    env.step(8) #lower-left\n"
      ],
      "execution_count": null,
      "outputs": []
    },
    {
      "cell_type": "code",
      "metadata": {
        "id": "WBe4IwJgVJHQ",
        "outputId": "51d4a4a2-8054-4e96-be32-0a99b0e347a1",
        "colab": {
          "base_uri": "https://localhost:8080/",
          "height": 269
        }
      },
      "source": [
        "plot_environment(env)"
      ],
      "execution_count": null,
      "outputs": [
        {
          "output_type": "display_data",
          "data": {
            "image/png": "[encoded data removed]",
            "text/plain": [
              "<Figure size 360x288 with 1 Axes>"
            ]
          },
          "metadata": {
            "tags": []
          }
        }
      ]
    },
    {
      "cell_type": "code",
      "metadata": {
        "id": "pELej6UFVf28"
      },
      "source": [
        "def update_scene(num, frames, patch):\n",
        "    patch.set_data(frames[num])\n",
        "    return patch,\n",
        "\n",
        "def plot_animation(frames, repeat=False, interval=40):\n",
        "    plt.close()  \n",
        "    fig = plt.figure()\n",
        "    patch = plt.imshow(frames[0])\n",
        "    plt.axis('off')\n",
        "    return animation.FuncAnimation(fig, update_scene, fargs=(frames, patch), frames=len(frames), repeat=repeat, interval=interval)\n"
      ],
      "execution_count": null,
      "outputs": []
    },
    {
      "cell_type": "code",
      "metadata": {
        "id": "bAoPCd4rVs5Z"
      },
      "source": [
        "env.close()"
      ],
      "execution_count": null,
      "outputs": []
    },
    {
      "cell_type": "code",
      "metadata": {
        "id": "veHLH2gmImp-"
      },
      "source": [
        "import tensorflow as tf"
      ],
      "execution_count": null,
      "outputs": []
    },
    {
      "cell_type": "code",
      "metadata": {
        "id": "pSPhp5MBIuAQ"
      },
      "source": [
        "from tensorflow.contrib.layers import convolution2d,fully_connected"
      ],
      "execution_count": null,
      "outputs": []
    },
    {
      "cell_type": "code",
      "metadata": {
        "id": "fOZ-oa3MIypF"
      },
      "source": [
        "tf.reset_default_graph()\n",
        "\n",
        "input_height = 88\n",
        "input_width = 80\n",
        "input_channels = 1\n",
        "conv_n_maps = [32, 64, 64]\n",
        "conv_kernel_sizes = [(8,8), (4,4), (3,3)]\n",
        "conv_strides = [4, 2, 1]\n",
        "conv_paddings = [\"SAME\"] * 3 \n",
        "conv_activation = [tf.nn.relu] * 3\n",
        "n_hidden_in = 64 * 11 * 10  \n",
        "n_hidden = 512\n",
        "hidden_activation = tf.nn.relu\n",
        "n_outputs = env.action_space.n\n",
        "initializer = tf.variance_scaling_initializer()\n",
        "\n",
        "def q_network(X_state, name):\n",
        "    prev_layer = X_state / 128.0 \n",
        "    with tf.variable_scope(name) as scope:\n",
        "        for n_maps, kernel_size, strides, padding, activation in zip(\n",
        "                conv_n_maps, conv_kernel_sizes, conv_strides,\n",
        "                conv_paddings, conv_activation):\n",
        "            prev_layer = tf.layers.conv2d(\n",
        "                prev_layer, filters=n_maps, kernel_size=kernel_size,\n",
        "                strides=strides, padding=padding, activation=activation,\n",
        "                kernel_initializer=initializer)\n",
        "        last_conv_layer_flat = tf.reshape(prev_layer, shape=[-1, n_hidden_in])\n",
        "        hidden = tf.layers.dense(last_conv_layer_flat, n_hidden,\n",
        "                                 activation=hidden_activation,\n",
        "                                 kernel_initializer=initializer)\n",
        "        outputs = tf.layers.dense(hidden, n_outputs,\n",
        "                                  kernel_initializer=initializer)\n",
        "    trainable_vars = tf.get_collection(tf.GraphKeys.TRAINABLE_VARIABLES,\n",
        "                                       scope=scope.name)\n",
        "    trainable_vars_by_name = {var.name[len(scope.name):]: var\n",
        "                              for var in trainable_vars}\n",
        "    return outputs, trainable_vars_by_name"
      ],
      "execution_count": null,
      "outputs": []
    },
    {
      "cell_type": "code",
      "metadata": {
        "id": "Y74MdnpJI55h"
      },
      "source": [
        "X_state = tf.placeholder(tf.float32, shape=[None, input_height, input_width,\n",
        "                                            input_channels])\n",
        "online_q_values, online_vars = q_network(X_state, name=\"q_networks/online\")\n",
        "target_q_values, target_vars = q_network(X_state, name=\"q_networks/target\")\n",
        "\n",
        "copy_ops = [target_var.assign(online_vars[var_name])\n",
        "            for var_name, target_var in target_vars.items()]\n",
        "copy_online_to_target = tf.group(*copy_ops)\n"
      ],
      "execution_count": null,
      "outputs": []
    },
    {
      "cell_type": "code",
      "metadata": {
        "id": "zcU-RllVI-BB",
        "outputId": "2126deae-d602-458e-896d-00b861752b98",
        "colab": {
          "base_uri": "https://localhost:8080/",
          "height": 191
        }
      },
      "source": [
        "online_vars"
      ],
      "execution_count": null,
      "outputs": [
        {
          "output_type": "execute_result",
          "data": {
            "text/plain": [
              "{'/conv2d/bias:0': <tf.Variable 'q_networks/online/conv2d/bias:0' shape=(32,) dtype=float32_ref>,\n",
              " '/conv2d/kernel:0': <tf.Variable 'q_networks/online/conv2d/kernel:0' shape=(8, 8, 1, 32) dtype=float32_ref>,\n",
              " '/conv2d_1/bias:0': <tf.Variable 'q_networks/online/conv2d_1/bias:0' shape=(64,) dtype=float32_ref>,\n",
              " '/conv2d_1/kernel:0': <tf.Variable 'q_networks/online/conv2d_1/kernel:0' shape=(4, 4, 32, 64) dtype=float32_ref>,\n",
              " '/conv2d_2/bias:0': <tf.Variable 'q_networks/online/conv2d_2/bias:0' shape=(64,) dtype=float32_ref>,\n",
              " '/conv2d_2/kernel:0': <tf.Variable 'q_networks/online/conv2d_2/kernel:0' shape=(3, 3, 64, 64) dtype=float32_ref>,\n",
              " '/dense/bias:0': <tf.Variable 'q_networks/online/dense/bias:0' shape=(512,) dtype=float32_ref>,\n",
              " '/dense/kernel:0': <tf.Variable 'q_networks/online/dense/kernel:0' shape=(7040, 512) dtype=float32_ref>,\n",
              " '/dense_1/bias:0': <tf.Variable 'q_networks/online/dense_1/bias:0' shape=(9,) dtype=float32_ref>,\n",
              " '/dense_1/kernel:0': <tf.Variable 'q_networks/online/dense_1/kernel:0' shape=(512, 9) dtype=float32_ref>}"
            ]
          },
          "metadata": {
            "tags": []
          },
          "execution_count": 54
        }
      ]
    },
    {
      "cell_type": "code",
      "metadata": {
        "id": "5clnYQtNJChM"
      },
      "source": [
        "\n",
        "learning_rate = 0.001\n",
        "momentum = 0.95\n",
        "\n",
        "with tf.variable_scope(\"train\"):\n",
        "    X_action = tf.placeholder(tf.int32, shape=[None])\n",
        "    y = tf.placeholder(tf.float32, shape=[None, 1])\n",
        "    q_value = tf.reduce_sum(online_q_values * tf.one_hot(X_action, n_outputs),\n",
        "                            axis=1, keepdims=True)\n",
        "    error = tf.abs(y - q_value)\n",
        "    clipped_error = tf.clip_by_value(error, 0.0, 1.0)\n",
        "    linear_error = 2 * (error - clipped_error)\n",
        "    loss = tf.reduce_mean(tf.square(clipped_error) + linear_error)\n",
        "\n",
        "    global_step = tf.Variable(0, trainable=False, name='global_step')\n",
        "    optimizer = tf.train.MomentumOptimizer(learning_rate, momentum, use_nesterov=True)\n",
        "    training_op = optimizer.minimize(loss, global_step=global_step)\n",
        "\n",
        "init = tf.global_variables_initializer()\n",
        "saver = tf.train.Saver()"
      ],
      "execution_count": null,
      "outputs": []
    },
    {
      "cell_type": "code",
      "metadata": {
        "id": "pVhW2n6YJGUD"
      },
      "source": [
        "\n",
        "class ReplayMemory:\n",
        "    def __init__(self, maxlen):\n",
        "        self.maxlen = maxlen\n",
        "        self.buf = np.empty(shape=maxlen, dtype=np.object)\n",
        "        self.index = 0\n",
        "        self.length = 0\n",
        "        \n",
        "    def append(self, data):\n",
        "        self.buf[self.index] = data\n",
        "        self.length = min(self.length + 1, self.maxlen)\n",
        "        self.index = (self.index + 1) % self.maxlen\n",
        "    \n",
        "    def sample(self, batch_size, with_replacement=True):\n",
        "        if with_replacement:\n",
        "            indices = np.random.randint(self.length, size=batch_size) \n",
        "        else:\n",
        "            indices = np.random.permutation(self.length)[:batch_size]\n",
        "        return self.buf[indices]\n",
        "        \n",
        "\n"
      ],
      "execution_count": null,
      "outputs": []
    },
    {
      "cell_type": "code",
      "metadata": {
        "id": "KNbd2oJiJMIn"
      },
      "source": [
        "replay_memory_size = 50\n",
        "replay_memory = ReplayMemory(replay_memory_size)"
      ],
      "execution_count": null,
      "outputs": []
    },
    {
      "cell_type": "code",
      "metadata": {
        "id": "e4Vzs_XPJPYC"
      },
      "source": [
        "def sample_memories(batch_size):\n",
        "    cols = [[], [], [], [], []] # state, action, reward, next_state, continue\n",
        "    for memory in replay_memory.sample(batch_size):\n",
        "        for col, value in zip(cols, memory):\n",
        "            col.append(value)\n",
        "    cols = [np.array(col) for col in cols]\n",
        "    return cols[0], cols[1], cols[2].reshape(-1, 1), cols[3], cols[4].reshape(-1, 1)"
      ],
      "execution_count": null,
      "outputs": []
    },
    {
      "cell_type": "code",
      "metadata": {
        "id": "_mdvc1_ZJU54"
      },
      "source": [
        "eps_min = 0.1\n",
        "eps_max = 1.0\n",
        "eps_decay_steps = 2000000\n",
        "\n",
        "def epsilon_greedy(q_values, step):\n",
        "    epsilon = max(eps_min, eps_max - (eps_max-eps_min) * step/eps_decay_steps)\n",
        "    if np.random.rand() < epsilon:\n",
        "        return np.random.randint(n_outputs)\n",
        "    else:\n",
        "        return np.argmax(q_values) "
      ],
      "execution_count": null,
      "outputs": []
    },
    {
      "cell_type": "code",
      "metadata": {
        "id": "C3Be7nUWJwFT"
      },
      "source": [
        "n_steps = 1000000  \n",
        "training_start = 10000  \n",
        "training_interval = 4 \n",
        "save_steps = 1000  \n",
        "copy_steps = 10000   \n",
        "discount_rate = 0.99\n",
        "skip_start = 90  \n",
        "batch_size = 50\n",
        "iteration = 0 \n",
        "checkpoint_path = \"./my_dqn.ckpt\"\n",
        "done = True "
      ],
      "execution_count": null,
      "outputs": []
    },
    {
      "cell_type": "code",
      "metadata": {
        "id": "7sU3nsOIJzGb"
      },
      "source": [
        "loss_val = np.infty\n",
        "game_length = 0\n",
        "total_max_q = 0\n",
        "mean_max_q = 0.0"
      ],
      "execution_count": null,
      "outputs": []
    },
    {
      "cell_type": "code",
      "metadata": {
        "id": "mwBGr6X4J3WN",
        "outputId": "fe280815-2970-4417-c373-dec82209fb56",
        "colab": {
          "base_uri": "https://localhost:8080/",
          "height": 34
        }
      },
      "source": [
        "import os\n",
        "with tf.Session() as sess:\n",
        "    if os.path.isfile(checkpoint_path + \".index\"):\n",
        "        saver.restore(sess, checkpoint_path)\n",
        "    else:\n",
        "        init.run()\n",
        "        copy_online_to_target.run()\n",
        "    while True:\n",
        "        step = global_step.eval()\n",
        "        if step >= n_steps:\n",
        "            break\n",
        "        iteration += 1\n",
        "        print(\"\\rIteration {}\\tTraining step {}/{} ({:.1f})%\\tLoss {:5f}\\tMean Max-Q {:5f}   \".format(\n",
        "            iteration, step, n_steps, step * 100 / n_steps, loss_val, mean_max_q), end=\"\")\n",
        "        if done: \n",
        "            obs = env.reset()\n",
        "            for skip in range(skip_start): \n",
        "                obs, reward, done, info = env.step(0)\n",
        "            state = preprocess_observation(obs)\n",
        "\n",
        "        \n",
        "        q_values = online_q_values.eval(feed_dict={X_state: [state]})\n",
        "        action = epsilon_greedy(q_values, step)\n",
        "\n",
        "        \n",
        "        obs, reward, done, info = env.step(action)\n",
        "        next_state = preprocess_observation(obs)\n",
        "\n",
        "        \n",
        "        replay_memory.append((state, action, reward, next_state, 1.0 - done))\n",
        "        state = next_state\n",
        "\n",
        "        \n",
        "        total_max_q += q_values.max()\n",
        "        game_length += 1\n",
        "        if done:\n",
        "            mean_max_q = total_max_q / game_length\n",
        "            total_max_q = 0.0\n",
        "            game_length = 0\n",
        "\n",
        "        if iteration < training_start or iteration % training_interval != 0:\n",
        "            continue \n",
        "        \n",
        "        \n",
        "        X_state_val, X_action_val, rewards, X_next_state_val, continues = (\n",
        "            sample_memories(batch_size))\n",
        "        next_q_values = target_q_values.eval(\n",
        "            feed_dict={X_state: X_next_state_val})\n",
        "        max_next_q_values = np.max(next_q_values, axis=1, keepdims=True)\n",
        "        y_val = rewards + continues * discount_rate * max_next_q_values\n",
        "\n",
        "        \n",
        "        _, loss_val = sess.run([training_op, loss], feed_dict={\n",
        "            X_state: X_state_val, X_action: X_action_val, y: y_val})\n",
        "\n",
        "        \n",
        "        if step % copy_steps == 0:\n",
        "            copy_online_to_target.run()\n",
        "\n",
        "        \n",
        "        if step % save_steps == 0:\n",
        "            saver.save(sess, checkpoint_path)\n"
      ],
      "execution_count": null,
      "outputs": [
        {
          "output_type": "stream",
          "text": [
            "Iteration 13992\tTraining step 999999/1000000 (100.0)%\tLoss 3.391530\tMean Max-Q 16.156989   "
          ],
          "name": "stdout"
        }
      ]
    },
    {
      "cell_type": "code",
      "metadata": {
        "id": "WF8hHzoCJ7sj",
        "outputId": "798e7a24-ec09-4ce3-b43d-e8dbb1df9a02",
        "colab": {
          "base_uri": "https://localhost:8080/",
          "height": 269
        }
      },
      "source": [
        "frames = []\n",
        "n_max_steps = 10000\n",
        "\n",
        "with tf.Session() as sess:\n",
        "    saver.restore(sess, checkpoint_path)\n",
        "\n",
        "    obs = env.reset()\n",
        "    for step in range(n_max_steps):\n",
        "        state = preprocess_observation(obs)\n",
        "\n",
        "        \n",
        "        q_values = online_q_values.eval(feed_dict={X_state: [state]})\n",
        "        action = np.argmax(q_values)\n",
        "\n",
        "        \n",
        "        obs, reward, done, info = env.step(action)\n",
        "\n",
        "        img = env.render(mode=\"rgb_array\")\n",
        "        plt.imshow(img)\n",
        "        ipythondisplay.clear_output(wait=True)\n",
        "        ipythondisplay.display(plt.gcf())\n",
        "\n",
        "        if done:\n",
        "            break\n",
        "    ipythondisplay.clear_output(wait=True)\n",
        "env.close()"
      ],
      "execution_count": null,
      "outputs": [
        {
          "output_type": "display_data",
          "data": {
            "image/png": "[encoded data removed]",
            "text/plain": [
              "<Figure size 432x288 with 1 Axes>"
            ]
          },
          "metadata": {
            "tags": []
          }
        }
      ]
    },
    {
      "cell_type": "code",
      "metadata": {
        "id": "zTzxWd8jPJ6e"
      },
      "source": [
        ""
      ],
      "execution_count": null,
      "outputs": []
    }
  ]
}