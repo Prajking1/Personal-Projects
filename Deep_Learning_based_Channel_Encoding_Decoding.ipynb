{
  "nbformat": 4,
  "nbformat_minor": 0,
  "metadata": {
    "kernelspec": {
      "display_name": "Python 3",
      "language": "python",
      "name": "python3"
    },
    "language_info": {
      "codemirror_mode": {
        "name": "ipython",
        "version": 3
      },
      "file_extension": ".py",
      "mimetype": "text/x-python",
      "name": "python",
      "nbconvert_exporter": "python",
      "pygments_lexer": "ipython3",
      "version": "3.4.3"
    },
    "colab": {
      "name": "Deep Learning based Channel Encoding-Decoding.ipynb",
      "provenance": [],
      "collapsed_sections": []
    }
  },
  "cells": [
    {
      "cell_type": "code",
      "metadata": {
        "id": "OK7xwwAyqg__"
      },
      "source": [
        "import numpy as np\n",
        "from keras.models import Sequential\n",
        "from keras.layers.core import Dense, Lambda\n",
        "from keras import backend as K\n",
        "import matplotlib.pyplot as plt\n",
        "%matplotlib inline"
      ],
      "execution_count": null,
      "outputs": []
    },
    {
      "cell_type": "markdown",
      "metadata": {
        "id": "1lDtHSHFqhAC"
      },
      "source": [
        "# Parameters"
      ]
    },
    {
      "cell_type": "code",
      "metadata": {
        "collapsed": true,
        "id": "sySZ2hndqhAC"
      },
      "source": [
        "k = 8                       # number of information bits\n",
        "N = 16                      # code length\n",
        "train_SNR_Eb = 1            # training-Eb/No\n",
        "\n",
        "nb_epoch = 2**16            # number of learning epochs\n",
        "code = 'polar'              # type of code ('random' or 'polar')\n",
        "design = [128, 64, 32]      # each list entry defines the number of nodes in a layer\n",
        "batch_size = 256            # size of batches for calculation the gradient\n",
        "LLR = False                 # 'True' enables the log-likelihood-ratio layer\n",
        "optimizer = 'adam'           \n",
        "loss = 'mse'                # or 'binary_crossentropy'\n",
        "\n",
        "train_SNR_Es = train_SNR_Eb + 10*np.log10(k/N)\n",
        "train_sigma = np.sqrt(1/(2*10**(train_SNR_Es/10)))"
      ],
      "execution_count": null,
      "outputs": []
    },
    {
      "cell_type": "markdown",
      "metadata": {
        "id": "VLqAvIv9qhAD"
      },
      "source": [
        "# Define NN model"
      ]
    },
    {
      "cell_type": "code",
      "metadata": {
        "collapsed": true,
        "id": "VevYGCO6qhAE"
      },
      "source": [
        "def modulateBPSK(x):\n",
        "    return -2*x +1;\n",
        "\n",
        "def addNoise(x, sigma):\n",
        "    w = K.random_normal(K.shape(x), mean=0.0, std=sigma)\n",
        "    return x + w\n",
        "\n",
        "def ber(y_true, y_pred):\n",
        "    return K.mean(K.not_equal(y_true, K.round(y_pred)))\n",
        "\n",
        "def return_output_shape(input_shape):  \n",
        "    return input_shape\n",
        "\n",
        "def compose_model(layers):\n",
        "    model = Sequential()\n",
        "    for layer in layers:\n",
        "        model.add(layer)\n",
        "    return model\n",
        "\n",
        "def log_likelihood_ratio(x, sigma):\n",
        "    return 2*x/np.float32(sigma**2)\n",
        "\n",
        "def errors(y_true, y_pred):\n",
        "    return K.sum(K.not_equal(y_true, K.round(y_pred)))"
      ],
      "execution_count": null,
      "outputs": []
    },
    {
      "cell_type": "code",
      "metadata": {
        "id": "LeoX97N3qhAE"
      },
      "source": [
        "# Define modulator\n",
        "modulator_layers = [Lambda(modulateBPSK, \n",
        "                          input_shape=(N,), output_shape=return_output_shape, name=\"modulator\")]\n",
        "modulator = compose_model(modulator_layers)\n",
        "modulator.compile(optimizer=optimizer, loss=loss)\n",
        "\n",
        "# Define noise\n",
        "noise_layers = [Lambda(addNoise, arguments={'sigma':train_sigma}, \n",
        "                       input_shape=(N,), output_shape=return_output_shape, name=\"noise\")]\n",
        "noise = compose_model(noise_layers)\n",
        "noise.compile(optimizer=optimizer, loss=loss)\n",
        "\n",
        "# Define LLR\n",
        "llr_layers = [Lambda(log_likelihood_ratio, arguments={'sigma':train_sigma}, \n",
        "                     input_shape=(N,), output_shape=return_output_shape, name=\"LLR\")]\n",
        "llr = compose_model(llr_layers)\n",
        "llr.compile(optimizer=optimizer, loss=loss)\n",
        "\n",
        "# Define decoder \n",
        "decoder_layers = [Dense(design[0], activation='relu', input_shape=(N,))]\n",
        "for i in range(1,len(design)):\n",
        "    decoder_layers.append(Dense(design[i], activation='relu'))\n",
        "decoder_layers.append(Dense(k, activation='sigmoid'))\n",
        "decoder = compose_model(decoder_layers)\n",
        "decoder.compile(optimizer=optimizer, loss=loss, metrics=[errors])\n",
        "\n",
        "# Define model\n",
        "if LLR:\n",
        "    model_layers = modulator_layers + noise_layers + llr_layers + decoder_layers\n",
        "else:\n",
        "    model_layers = modulator_layers + noise_layers + decoder_layers\n",
        "model = compose_model(model_layers)\n",
        "model.compile(optimizer=optimizer, loss=loss, metrics=[ber])"
      ],
      "execution_count": null,
      "outputs": []
    },
    {
      "cell_type": "markdown",
      "metadata": {
        "id": "t-arS7-8qhAF"
      },
      "source": [
        "# Data Generation"
      ]
    },
    {
      "cell_type": "code",
      "metadata": {
        "collapsed": true,
        "id": "3W9GDf05qhAF"
      },
      "source": [
        "def half_adder(a,b):\n",
        "    s = a ^ b\n",
        "    c = a & b\n",
        "    return s,c\n",
        "\n",
        "def full_adder(a,b,c):\n",
        "    s = (a ^ b) ^ c\n",
        "    c = (a & b) | (c & (a ^ b))\n",
        "    return s,c\n",
        "\n",
        "def add_bool(a,b):\n",
        "    if len(a) != len(b):\n",
        "        raise ValueError('arrays with different length')\n",
        "    k = len(a)\n",
        "    s = np.zeros(k,dtype=bool)\n",
        "    c = False\n",
        "    for i in reversed(range(0,k)):\n",
        "        s[i], c = full_adder(a[i],b[i],c)    \n",
        "    if c:\n",
        "        warnings.warn(\"Addition overflow!\")\n",
        "    return s\n",
        "\n",
        "def inc_bool(a):\n",
        "    k = len(a)\n",
        "    increment = np.hstack((np.zeros(k-1,dtype=bool), np.ones(1,dtype=bool)))\n",
        "    a = add_bool(a,increment)\n",
        "    return a\n",
        "\n",
        "def bitrevorder(x):\n",
        "    m = np.amax(x)\n",
        "    n = np.ceil(np.log2(m)).astype(int)\n",
        "    for i in range(0,len(x)):\n",
        "        x[i] = int('{:0{n}b}'.format(x[i],n=n)[::-1],2)  \n",
        "    return x\n",
        "\n",
        "def int2bin(x,N):\n",
        "    if isinstance(x, list) or isinstance(x, np.ndarray):\n",
        "        binary = np.zeros((len(x),N),dtype='bool')\n",
        "        for i in range(0,len(x)):\n",
        "            binary[i] = np.array([int(j) for j in bin(x[i])[2:].zfill(N)])\n",
        "    else:\n",
        "        binary = np.array([int(j) for j in bin(x)[2:].zfill(N)],dtype=bool)\n",
        "    \n",
        "    return binary\n",
        "\n",
        "def bin2int(b):\n",
        "    if isinstance(b[0], list):\n",
        "        integer = np.zeros((len(b),),dtype=int)\n",
        "        for i in range(0,len(b)):\n",
        "            out = 0\n",
        "            for bit in b[i]:\n",
        "                out = (out << 1) | bit\n",
        "            integer[i] = out\n",
        "    elif isinstance(b, np.ndarray):\n",
        "        if len(b.shape) == 1:\n",
        "            out = 0\n",
        "            for bit in b:\n",
        "                out = (out << 1) | bit\n",
        "            integer = out     \n",
        "        else:\n",
        "            integer = np.zeros((b.shape[0],),dtype=int)\n",
        "            for i in range(0,b.shape[0]):\n",
        "                out = 0\n",
        "                for bit in b[i]:\n",
        "                    out = (out << 1) | bit\n",
        "                integer[i] = out\n",
        "        \n",
        "    return integer\n",
        "\n",
        "def polar_design_awgn(N, k, design_snr_dB):  \n",
        "        \n",
        "    S = 10**(design_snr_dB/10)\n",
        "    z0 = np.zeros(N)\n",
        "\n",
        "    z0[0] = np.exp(-S)\n",
        "    for j in range(1,int(np.log2(N))+1):\n",
        "        u = 2**j\n",
        "        for t in range(0,int(u/2)):\n",
        "            T = z0[t]\n",
        "            z0[t] = 2*T - T**2     # upper channel\n",
        "            z0[int(u/2)+t] = T**2  # lower channel\n",
        "        \n",
        "    # sort into increasing order\n",
        "    idx = np.argsort(z0)\n",
        "        \n",
        "    # select k best channels\n",
        "    idx = np.sort(bitrevorder(idx[0:k]))\n",
        "    \n",
        "    A = np.zeros(N, dtype=bool)\n",
        "    A[idx] = True\n",
        "        \n",
        "    return A\n",
        "\n",
        "def polar_transform_iter(u):\n",
        "\n",
        "    N = len(u)\n",
        "    n = 1\n",
        "    x = np.copy(u)\n",
        "    stages = np.log2(N).astype(int)\n",
        "    for s in range(0,stages):\n",
        "        i = 0\n",
        "        while i < N:\n",
        "            for j in range(0,n):\n",
        "                idx = i+j\n",
        "                x[idx] = x[idx] ^ x[idx+n]\n",
        "            i=i+2*n\n",
        "        n=2*n\n",
        "    return x"
      ],
      "execution_count": null,
      "outputs": []
    },
    {
      "cell_type": "code",
      "metadata": {
        "collapsed": true,
        "id": "Cm6dp1XUqhAG"
      },
      "source": [
        "# Create all possible information words\n",
        "d = np.zeros((2**k,k),dtype=bool)\n",
        "for i in range(1,2**k):\n",
        "    d[i]= inc_bool(d[i-1])\n",
        "\n",
        "# Create sets of all possible codewords (codebook)\n",
        "if code == 'polar':   \n",
        "    \n",
        "    A = polar_design_awgn(N, k, design_snr_dB=0)  # logical vector indicating the nonfrozen bit locations \n",
        "    x = np.zeros((2**k, N),dtype=bool)\n",
        "    u = np.zeros((2**k, N),dtype=bool)\n",
        "    u[:,A] = d\n",
        "\n",
        "    for i in range(0,2**k):\n",
        "        x[i] = polar_transform_iter(u[i])\n",
        "\n",
        "elif code == 'random':\n",
        "    \n",
        "    np.random.seed(4267)   # for a 16bit Random Code (r=0.5) with Hamming distance >= 2\n",
        "    x = np.random.randint(0,2,size=(2**k,N), dtype=bool)"
      ],
      "execution_count": null,
      "outputs": []
    },
    {
      "cell_type": "markdown",
      "metadata": {
        "id": "Ek7YSj7EqhAH"
      },
      "source": [
        "# Train Neural Network"
      ]
    },
    {
      "cell_type": "code",
      "metadata": {
        "id": "bGv2rz__qhAI",
        "outputId": "792269a0-caf8-4faa-c6c9-59b874ca3d15"
      },
      "source": [
        "model.summary()\n",
        "history = model.fit(x, d, batch_size=batch_size, nb_epoch=nb_epoch, verbose=0, shuffle=True)"
      ],
      "execution_count": null,
      "outputs": [
        {
          "output_type": "stream",
          "text": [
            "____________________________________________________________________________________________________\n",
            "Layer (type)                     Output Shape          Param #     Connected to                     \n",
            "====================================================================================================\n",
            "modulator (Lambda)               (None, 16)            0           lambda_input_1[0][0]             \n",
            "____________________________________________________________________________________________________\n",
            "noise (Lambda)                   (None, 16)            0           modulator[0][0]                  \n",
            "____________________________________________________________________________________________________\n",
            "dense_1 (Dense)                  (None, 128)           2176        noise[1][0]                      \n",
            "____________________________________________________________________________________________________\n",
            "dense_2 (Dense)                  (None, 64)            8256        dense_1[1][0]                    \n",
            "____________________________________________________________________________________________________\n",
            "dense_3 (Dense)                  (None, 32)            2080        dense_2[1][0]                    \n",
            "____________________________________________________________________________________________________\n",
            "dense_4 (Dense)                  (None, 8)             264         dense_3[1][0]                    \n",
            "====================================================================================================\n",
            "Total params: 12776\n",
            "____________________________________________________________________________________________________\n"
          ],
          "name": "stdout"
        }
      ]
    },
    {
      "cell_type": "markdown",
      "metadata": {
        "id": "6VoMgpUrqhAI"
      },
      "source": [
        "# Test NN"
      ]
    },
    {
      "cell_type": "code",
      "metadata": {
        "collapsed": true,
        "id": "-b_yPPo5qhAJ"
      },
      "source": [
        "test_batch = 1000  \n",
        "num_words = 100000      # multiple of test_batch\n",
        "\n",
        "SNR_dB_start_Eb = 0\n",
        "SNR_dB_stop_Eb = 5\n",
        "SNR_points = 20"
      ],
      "execution_count": null,
      "outputs": []
    },
    {
      "cell_type": "code",
      "metadata": {
        "id": "72U3_CqoqhAJ"
      },
      "source": [
        "SNR_dB_start_Es = SNR_dB_start_Eb + 10*np.log10(k/N)\n",
        "SNR_dB_stop_Es = SNR_dB_stop_Eb + 10*np.log10(k/N)\n",
        "\n",
        "sigma_start = np.sqrt(1/(2*10**(SNR_dB_start_Es/10)))\n",
        "sigma_stop = np.sqrt(1/(2*10**(SNR_dB_stop_Es/10)))\n",
        "\n",
        "sigmas = np.linspace(sigma_start, sigma_stop, SNR_points)\n",
        "\n",
        "nb_errors = np.zeros(len(sigmas),dtype=int)\n",
        "nb_bits = np.zeros(len(sigmas),dtype=int)\n",
        "\n",
        "for i in range(0,len(sigmas)):\n",
        "\n",
        "    for ii in range(0,np.round(num_words/test_batch).astype(int)):\n",
        "        \n",
        "        # Source\n",
        "        np.random.seed(0)\n",
        "        d_test = np.random.randint(0,2,size=(test_batch,k)) \n",
        "\n",
        "        # Encoder\n",
        "        if code == 'polar':\n",
        "            x_test = np.zeros((test_batch, N),dtype=bool)\n",
        "            u_test = np.zeros((test_batch, N),dtype=bool)\n",
        "            u_test[:,A] = d_test\n",
        "\n",
        "            for iii in range(0,test_batch):\n",
        "                x_test[iii] = polar_transform_iter(u_test[iii])\n",
        "\n",
        "        elif code == 'random':\n",
        "            x_test = np.zeros((test_batch, N),dtype=bool)\n",
        "            for iii in range(0,test_batch):\n",
        "                x_test[iii] = x[bin2int(d_test[iii])]\n",
        "\n",
        "        # Modulator (BPSK)\n",
        "        s_test = -2*x_test + 1\n",
        "\n",
        "        # Channel (AWGN)\n",
        "        y_test = s_test + sigmas[i]*np.random.standard_normal(s_test.shape)\n",
        "\n",
        "        if LLR:\n",
        "            y_test = 2*y_test/(sigmas[i]**2)\n",
        "\n",
        "        # Decoder\n",
        "        nb_errors[i] += decoder.evaluate(y_test, d_test, batch_size=test_batch, verbose=0)[1]\n",
        "        nb_bits[i] += d_test.size"
      ],
      "execution_count": null,
      "outputs": []
    },
    {
      "cell_type": "markdown",
      "metadata": {
        "id": "OR3hxHyaqhAK"
      },
      "source": [
        "# Load MAP"
      ]
    },
    {
      "cell_type": "code",
      "metadata": {
        "collapsed": true,
        "id": "L2SMGVJCqhAK"
      },
      "source": [
        "result_map = np.loadtxt('map/{}/results_{}_map_{}_{}.txt'.format(code,code,N,k), delimiter=', ')\n",
        "sigmas_map = result_map[:,0]\n",
        "nb_bits_map = result_map[:,1]\n",
        "nb_errors_map = result_map[:,2]"
      ],
      "execution_count": null,
      "outputs": []
    },
    {
      "cell_type": "markdown",
      "metadata": {
        "id": "-wgIow-OqhAL"
      },
      "source": [
        "# Plot Bit-Error-Rate"
      ]
    },
    {
      "cell_type": "code",
      "metadata": {
        "id": "Ypz6zlomqhAL"
      },
      "source": [
        "legend = []\n",
        "\n",
        "plt.plot(10*np.log10(1/(2*sigmas**2)) - 10*np.log10(k/N), nb_errors/nb_bits)\n",
        "legend.append('NN') \n",
        "\n",
        "plt.plot(10*np.log10(1/(2*sigmas_map**2)) - 10*np.log10(k/N), nb_errors_map/nb_bits_map)\n",
        "legend.append('MAP') \n",
        "\n",
        "plt.legend(legend, loc=3)\n",
        "plt.yscale('log')\n",
        "plt.xlabel('$E_b/N_0$')\n",
        "plt.ylabel('BER')    \n",
        "plt.grid(True)\n",
        "plt.show()"
      ],
      "execution_count": null,
      "outputs": []
    },
    {
      "cell_type": "markdown",
      "metadata": {
        "id": "y0onrgvwANNm"
      },
      "source": [
        "![dfd.JPG](data:image/jpeg;base64,/9j/4AAQSkZJRgABAQEAYABgAAD/4RDcRXhpZgAATU0AKgAAAAgABAE7AAIAAAAGAAAISodpAAQAAAABAAAIUJydAAEAAAAMAAAQyOocAAcAAAgMAAAAPgAAAAAc6gAAAAgAAAAAAAAAAAAAAAAAAAAAAAAAAAAAAAAAAAAAAAAAAAAAAAAAAAAAAAAAAAAAAAAAAAAAAAAAAAAAAAAAAAAAAAAAAAAAAAAAAAAAAAAAAAAAAAAAAAAAAAAAAAAAAAAAAAAAAAAAAAAAAAAAAAAAAAAAAAAAAAAAAAAAAAAAAAAAAAAAAAAAAAAAAAAAAAAAAAAAAAAAAAAAAAAAAAAAAAAAAAAAAAAAAAAAAAAAAAAAAAAAAAAAAAAAAAAAAAAAAAAAAAAAAAAAAAAAAAAAAAAAAAAAAAAAAAAAAAAAAAAAAAAAAAAAAAAAAAAAAAAAAAAAAAAAAAAAAAAAAAAAAAAAAAAAAAAAAAAAAAAAAAAAAAAAAAAAAAAAAAAAAAAAAAAAAAAAAAAAAAAAAAAAAAAAAAAAAAAAAAAAAAAAAAAAAAAAAAAAAAAAAAAAAAAAAAAAAAAAAAAAAAAAAAAAAAAAAAAAAAAAAAAAAAAAAAAAAAAAAAAAAAAAAAAAAAAAAAAAAAAAAAAAAAAAAAAAAAAAAAAAAAAAAAAAAAAAAAAAAAAAAAAAAAAAAAAAAAAAAAAAAAAAAAAAAAAAAAAAAAAAAAAAAAAAAAAAAAAAAAAAAAAAAAAAAAAAAAAAAAAAAAAAAAAAAAAAAAAAAAAAAAAAAAAAAAAAAAAAAAAAAAAAAAAAAAAAAAAAAAAAAAAAAAAAAAAAAAAAAAAAAAAAAAAAAAAAAAAAAAAAAAAAAAAAAAAAAAAAAAAAAAAAAAAAAAAAAAAAAAAAAAAAAAAAAAAAAAAAAAAAAAAAAAAAAAAAAAAAAAAAAAAAAAAAAAAAAAAAAAAAAAAAAAAAAAAAAAAAAAAAAAAAAAAAAAAAAAAAAAAAAAAAAAAAAAAAAAAAAAAAAAAAAAAAAAAAAAAAAAAAAAAAAAAAAAAAAAAAAAAAAAAAAAAAAAAAAAAAAAAAAAAAAAAAAAAAAAAAAAAAAAAAAAAAAAAAAAAAAAAAAAAAAAAAAAAAAAAAAAAAAAAAAAAAAAAAAAAAAAAAAAAAAAAAAAAAAAAAAAAAAAAAAAAAAAAAAAAAAAAAAAAAAAAAAAAAAAAAAAAAAAAAAAAAAAAAAAAAAAAAAAAAAAAAAAAAAAAAAAAAAAAAAAAAAAAAAAAAAAAAAAAAAAAAAAAAAAAAAAAAAAAAAAAAAAAAAAAAAAAAAAAAAAAAAAAAAAAAAAAAAAAAAAAAAAAAAAAAAAAAAAAAAAAAAAAAAAAAAAAAAAAAAAAAAAAAAAAAAAAAAAAAAAAAAAAAAAAAAAAAAAAAAAAAAAAAAAAAAAAAAAAAAAAAAAAAAAAAAAAAAAAAAAAAAAAAAAAAAAAAAAAAAAAAAAAAAAAAAAAAAAAAAAAAAAAAAAAAAAAAAAAAAAAAAAAAAAAAAAAAAAAAAAAAAAAAAAAAAAAAAAAAAAAAAAAAAAAAAAAAAAAAAAAAAAAAAAAAAAAAAAAAAAAAAAAAAAAAAAAAAAAAAAAAAAAAAAAAAAAAAAAAAAAAAAAAAAAAAAAAAAAAAAAAAAAAAAAAAAAAAAAAAAAAAAAAAAAAAAAAAAAAAAAAAAAAAAAAAAAAAAAAAAAAAAAAAAAAAAAAAAAAAAAAAAAAAAAAAAAAAAAAAAAAAAAAAAAAAAAAAAAAAAAAAAAAAAAAAAAAAAAAAAAAAAAAAAAAAAAAAAAAAAAAAAAAAAAAAAAAAAAAAAAAAAAAAAAAAAAAAAAAAAAAAAAAAAAAAAAAAAAAAAAAAAAAAAAAAAAAAAAAAAAAAAAAAAAAAAAAAAAAAAAAAAAAAAAAAAAAAAAAAAAAAAAAAAAAAAAAAAAAAAAAAAAAAAAAAAAAAAAAAAAAAAAAAAAAAAAAAAAAAAAAAAAAAAAAAAAAAAAAAAAAAAAAAAAAAAAAAAAAAAAAAAAAAAAAAAAAAAAAAAAAAAAAAAAAAAAAAAAAAAAAAAAAAAAAAAAAAAAAAAAAAAAAAAAAAAAAAAAAAAAAAAAAAAAAAAAAAAAAAAAAAAAAAAAAAAAAAAAAAAAAAAAAAAAAAAAAAAAAAAAAAAAAAAAAAAAAAAAAAAAAAAAAAAAAAAAAAAAAAAAAAAAAAAAAAAAAAAAAAAAAAAAAAAAAAAAAAAAAAAAAAAAAAAAAAAAAAAAAAAAAAAAAAAAAAAAAAAAAAAAAAAAAAAAAAAAAAAAAAAAAAAAAAAAAAAAAAAAAAAAAAAAAAAAAAAAAAAAAAAAAAAAAAAAAAAAAAAAAAAAAAAAAAAAAAAAAAAAAAAAAAAAAAAAAAAAAAAAAAAAAAAAAAAAAAAAAAAAAAAAAAAAAAAAAAAAAAAAAAAAAAAAAAAAAAAAAAAAAAAAAAAAAAAAAAAAAAAAAAAAAAAAAAAAAAAAAAAAAAAAAAAAAAAAAAAAAAAAAAAAAAAAAAAAAAAAAAAAAAAAAAAAAAAAAAAAAAAAAAAAAAAAAAAAAAAAAAAAAAAAAAAAAAAAAAAAAAAAAAAAAAAAAAAAAAAAAAAAAAAAAAAAAAAAAAAAAAAAAAAAAAAAAAAAAAAAAAAAAAAAAAAAAAAAAAAAAAAAAAAAAAAAAAAAAAAAAAAAAAAAAAAAAAAAAAAAAAAAAAAAAAAAAAAAAAAAAAAAAAAAAAAAAAAAAAAAAAAAAAAAAAAAAAAAAAAAAAAAAAAAAAAAAAAAAAAAAAAAAAAAAAAAAAAAAAAAAAAAAAAAAAAAAAAAAAHNhZ2FyAAAFkAMAAgAAABQAABCekAQAAgAAABQAABCykpEAAgAAAAM3MwAAkpIAAgAAAAM3MwAA6hwABwAACAwAAAiSAAAAABzqAAAACAAAAAAAAAAAAAAAAAAAAAAAAAAAAAAAAAAAAAAAAAAAAAAAAAAAAAAAAAAAAAAAAAAAAAAAAAAAAAAAAAAAAAAAAAAAAAAAAAAAAAAAAAAAAAAAAAAAAAAAAAAAAAAAAAAAAAAAAAAAAAAAAAAAAAAAAAAAAAAAAAAAAAAAAAAAAAAAAAAAAAAAAAAAAAAAAAAAAAAAAAAAAAAAAAAAAAAAAAAAAAAAAAAAAAAAAAAAAAAAAAAAAAAAAAAAAAAAAAAAAAAAAAAAAAAAAAAAAAAAAAAAAAAAAAAAAAAAAAAAAAAAAAAAAAAAAAAAAAAAAAAAAAAAAAAAAAAAAAAAAAAAAAAAAAAAAAAAAAAAAAAAAAAAAAAAAAAAAAAAAAAAAAAAAAAAAAAAAAAAAAAAAAAAAAAAAAAAAAAAAAAAAAAAAAAAAAAAAAAAAAAAAAAAAAAAAAAAAAAAAAAAAAAAAAAAAAAAAAAAAAAAAAAAAAAAAAAAAAAAAAAAAAAAAAAAAAAAAAAAAAAAAAAAAAAAAAAAAAAAAAAAAAAAAAAAAAAAAAAAAAAAAAAAAAAAAAAAAAAAAAAAAAAAAAAAAAAAAAAAAAAAAAAAAAAAAAAAAAAAAAAAAAAAAAAAAAAAAAAAAAAAAAAAAAAAAAAAAAAAAAAAAAAAAAAAAAAAAAAAAAAAAAAAAAAAAAAAAAAAAAAAAAAAAAAAAAAAAAAAAAAAAAAAAAAAAAAAAAAAAAAAAAAAAAAAAAAAAAAAAAAAAAAAAAAAAAAAAAAAAAAAAAAAAAAAAAAAAAAAAAAAAAAAAAAAAAAAAAAAAAAAAAAAAAAAAAAAAAAAAAAAAAAAAAAAAAAAAAAAAAAAAAAAAAAAAAAAAAAAAAAAAAAAAAAAAAAAAAAAAAAAAAAAAAAAAAAAAAAAAAAAAAAAAAAAAAAAAAAAAAAAAAAAAAAAAAAAAAAAAAAAAAAAAAAAAAAAAAAAAAAAAAAAAAAAAAAAAAAAAAAAAAAAAAAAAAAAAAAAAAAAAAAAAAAAAAAAAAAAAAAAAAAAAAAAAAAAAAAAAAAAAAAAAAAAAAAAAAAAAAAAAAAAAAAAAAAAAAAAAAAAAAAAAAAAAAAAAAAAAAAAAAAAAAAAAAAAAAAAAAAAAAAAAAAAAAAAAAAAAAAAAAAAAAAAAAAAAAAAAAAAAAAAAAAAAAAAAAAAAAAAAAAAAAAAAAAAAAAAAAAAAAAAAAAAAAAAAAAAAAAAAAAAAAAAAAAAAAAAAAAAAAAAAAAAAAAAAAAAAAAAAAAAAAAAAAAAAAAAAAAAAAAAAAAAAAAAAAAAAAAAAAAAAAAAAAAAAAAAAAAAAAAAAAAAAAAAAAAAAAAAAAAAAAAAAAAAAAAAAAAAAAAAAAAAAAAAAAAAAAAAAAAAAAAAAAAAAAAAAAAAAAAAAAAAAAAAAAAAAAAAAAAAAAAAAAAAAAAAAAAAAAAAAAAAAAAAAAAAAAAAAAAAAAAAAAAAAAAAAAAAAAAAAAAAAAAAAAAAAAAAAAAAAAAAAAAAAAAAAAAAAAAAAAAAAAAAAAAAAAAAAAAAAAAAAAAAAAAAAAAAAAAAAAAAAAAAAAAAAAAAAAAAAAAAAAAAAAAAAAAAAAAAAAAAAAAAAAAAAAAAAAAAAAAAAAAAAAAAAAAAAAAAAAAAAAAAAAAAAAAAAAAAAAAAAAAAAAAAAAAAAAAAAAAAAAAAAAAAAAAAAAAAAAAAAAAAAAAAAAAAAAAAAAAAAAAAAAAAAAAAAAAAAAAAAAAAAAAAAAAAAAAAAAAAAAAAAAAAAAAAAAAAAAAAAAAAAAAAAAAAAAAAAAAAAAAAAAAAAAAAAAAAAAAAAAAAAAAAAAAAAAAAAAAAAAAAAAAAAAAAAAAAAAAAAAAAAAAAAAAAAAAAAAAAAAAAAAAAAAAAAAAAAAAAAAAAAAAAAAAAAAAAAAAAAAAAAAAAAAAAAAAAAAAAAAAAAAAAAAAAAAAAAAAAAAAAAAAAAAAAAAAAAAAAAAAAAAAAAAAAAAAAAAAAAAAAAAAAAAAAAAAAAAAAAAAAAAAAAAAAAAAAAAAAAAAAAAAAAAAAAAAAAAAAAAAAAAAAAAAAAAAAAAAAAAAAAAAAAAAAAAAAAAAAAAAAAAAAAAAAAAAAAAAAAAAAAAAAAAAAAAAAAAAAAAAAAAAAAAAAAAAAAAAAAAAAAAAAAAAAAAAAAAAAAAAAAAAAAAAAAAAAAAAAAAAAAAAAAAAAAAAAAAAAAAAAAAAAAAAAAAAAAAAAAAAAAAAAAAAAAAAAAAAAAAAAAAAAAAAAAAAAAAAAAAAAAAAAAAAAAAAAAAAAAAAAAAAAAAAAAAAAAAAAAAAAAAAAAAAAAAAAAAAAAAAAAAAAAAAAAAAAAAAAAAAAAAAAAAAAAAAAAAAAAAAAAAAAAAAAAAAAAAAAAAAAAAAAAAAAAAAAAAAAAAAAAAAAAAAAAAAAAAAAAAAAAAAAAAAAAAAAAAAAAAAAAAAAAAAAAAAAAAAAAAAAAAAAAAAAAAAAAAAAAAAAAAAAAAAAAAAAAAAAAAAAAAAAAAAAAAAAAAAAAAAAAAAAAAAAAAAAAAAAAAAAAAAAAAAAAAAAAAAAAAAAAAAAAAAAAAAAAAAAAAAAAAAAAAAAAAAAAAAAAAAAAAAAAAAAAAAAAAAAAAAAAAAAAAAAAAAAAAAAAAAAAAAAAAAAAAAAAAAAAAAAAAAAAAAAAAAAAAAAAAAAAAAAMjAyMDoxMjoxMyAxMTo1ODoxNwAyMDIwOjEyOjEzIDExOjU4OjE3AAAAcwBhAGcAYQByAAAA/+ELGGh0dHA6Ly9ucy5hZG9iZS5jb20veGFwLzEuMC8APD94cGFja2V0IGJlZ2luPSfvu78nIGlkPSdXNU0wTXBDZWhpSHpyZVN6TlRjemtjOWQnPz4NCjx4OnhtcG1ldGEgeG1sbnM6eD0iYWRvYmU6bnM6bWV0YS8iPjxyZGY6UkRGIHhtbG5zOnJkZj0iaHR0cDovL3d3dy53My5vcmcvMTk5OS8wMi8yMi1yZGYtc3ludGF4LW5zIyI+PHJkZjpEZXNjcmlwdGlvbiByZGY6YWJvdXQ9InV1aWQ6ZmFmNWJkZDUtYmEzZC0xMWRhLWFkMzEtZDMzZDc1MTgyZjFiIiB4bWxuczpkYz0iaHR0cDovL3B1cmwub3JnL2RjL2VsZW1lbnRzLzEuMS8iLz48cmRmOkRlc2NyaXB0aW9uIHJkZjphYm91dD0idXVpZDpmYWY1YmRkNS1iYTNkLTExZGEtYWQzMS1kMzNkNzUxODJmMWIiIHhtbG5zOnhtcD0iaHR0cDovL25zLmFkb2JlLmNvbS94YXAvMS4wLyI+PHhtcDpDcmVhdGVEYXRlPjIwMjAtMTItMTNUMTE6NTg6MTcuNzMzPC94bXA6Q3JlYXRlRGF0ZT48L3JkZjpEZXNjcmlwdGlvbj48cmRmOkRlc2NyaXB0aW9uIHJkZjphYm91dD0idXVpZDpmYWY1YmRkNS1iYTNkLTExZGEtYWQzMS1kMzNkNzUxODJmMWIiIHhtbG5zOmRjPSJodHRwOi8vcHVybC5vcmcvZGMvZWxlbWVudHMvMS4xLyI+PGRjOmNyZWF0b3I+PHJkZjpTZXEgeG1sbnM6cmRmPSJodHRwOi8vd3d3LnczLm9yZy8xOTk5LzAyLzIyLXJkZi1zeW50YXgtbnMjIj48cmRmOmxpPnNhZ2FyPC9yZGY6bGk+PC9yZGY6U2VxPg0KCQkJPC9kYzpjcmVhdG9yPjwvcmRmOkRlc2NyaXB0aW9uPjwvcmRmOlJERj48L3g6eG1wbWV0YT4NCiAgICAgICAgICAgICAgICAgICAgICAgICAgICAgICAgICAgICAgICAgICAgICAgICAgICAgICAgICAgICAgICAgICAgICAgICAgICAgICAgICAgICAgICAgICAgICAgICAgICAKICAgICAgICAgICAgICAgICAgICAgICAgICAgICAgICAgICAgICAgICAgICAgICAgICAgICAgICAgICAgICAgICAgICAgICAgICAgICAgICAgICAgICAgICAgICAgICAgICAgIAogICAgICAgICAgICAgICAgICAgICAgICAgICAgICAgICAgICAgICAgICAgICAgICAgICAgICAgICAgICAgICAgICAgICAgICAgICAgICAgICAgICAgICAgICAgICAgICAgICAgCiAgICAgICAgICAgICAgICAgICAgICAgICAgICAgICAgICAgICAgICAgICAgICAgICAgICAgICAgICAgICAgICAgICAgICAgICAgICAgICAgICAgICAgICAgICAgICAgICAgICAKICAgICAgICAgICAgICAgICAgICAgICAgICAgICAgICAgICAgICAgICAgICAgICAgICAgICAgICAgICAgICAgICAgICAgICAgICAgICAgICAgICAgICAgICAgICAgICAgICAgIAogICAgICAgICAgICAgICAgICAgICAgICAgICAgICAgICAgICAgICAgICAgICAgICAgICAgICAgICAgICAgICAgICAgICAgICAgICAgICAgICAgICAgICAgICAgICAgICAgICAgCiAgICAgICAgICAgICAgICAgICAgICAgICAgICAgICAgICAgICAgICAgICAgICAgICAgICAgICAgICAgICAgICAgICAgICAgICAgICAgICAgICAgICAgICAgICAgICAgICAgICAKICAgICAgICAgICAgICAgICAgICAgICAgICAgICAgICAgICAgICAgICAgICAgICAgICAgICAgICAgICAgICAgICAgICAgICAgICAgICAgICAgICAgICAgICAgICAgICAgICAgIAogICAgICAgICAgICAgICAgICAgICAgICAgICAgICAgICAgICAgICAgICAgICAgICAgICAgICAgICAgICAgICAgICAgICAgICAgICAgICAgICAgICAgICAgICAgICAgICAgICAgCiAgICAgICAgICAgICAgICAgICAgICAgICAgICAgICAgICAgICAgICAgICAgICAgICAgICAgICAgICAgICAgICAgICAgICAgICAgICAgICAgICAgICAgICAgICAgICAgICAgICAKICAgICAgICAgICAgICAgICAgICAgICAgICAgICAgICAgICAgICAgICAgICAgICAgICAgICAgICAgICAgICAgICAgICAgICAgICAgICAgICAgICAgICAgICAgICAgICAgICAgIAogICAgICAgICAgICAgICAgICAgICAgICAgICAgICAgICAgICAgICAgICAgICAgICAgICAgICAgICAgICAgICAgICAgICAgICAgICAgICAgICAgICAgICAgICAgICAgICAgICAgCiAgICAgICAgICAgICAgICAgICAgICAgICAgICAgICAgICAgICAgICAgICAgICAgICAgICAgICAgICAgICAgICAgICAgICAgICAgICAgICAgICAgICAgICAgICAgICAgICAgICAKICAgICAgICAgICAgICAgICAgICAgICAgICAgICAgICAgICAgICAgICAgICAgICAgICAgICAgICAgICAgICAgICAgICAgICAgICAgICAgICAgICAgICAgICAgICAgICAgICAgIAogICAgICAgICAgICAgICAgICAgICAgICAgICAgICAgICAgICAgICAgICAgICAgICAgICAgICAgICAgICAgICAgICAgICAgICAgICAgICAgICAgICAgICAgICAgICAgICAgICAgCiAgICAgICAgICAgICAgICAgICAgICAgICAgICAgICAgICAgICAgICAgICAgICAgICAgICAgICAgICAgICAgICAgICAgICAgICAgICAgICAgICAgICAgICAgICAgICAgICAgICAKICAgICAgICAgICAgICAgICAgICAgICAgICAgICAgICAgICAgICAgICAgICAgICAgICAgICAgICAgICAgICAgICAgICAgICAgICAgICAgICAgICAgICAgICAgICAgICAgICAgIAogICAgICAgICAgICAgICAgICAgICAgICAgICAgICAgICAgICAgICAgICAgICAgICAgICAgICAgICAgICAgICAgICAgICAgICAgICAgICAgICAgICAgICAgICAgICAgICAgICAgCiAgICAgICAgICAgICAgICAgICAgICAgICAgICAgICAgICAgICAgICAgICAgICAgICAgICAgICAgICAgICAgICAgICAgICAgICAgICAgICAgICAgICAgICAgICAgICAgICAgICAKICAgICAgICAgICAgICAgICAgICAgICAgICAgICAgICAgICAgICAgICAgICAgICAgICAgICAgICAgICAgICAgICAgICAgICAgICAgICAgICAgICAgICAgICAgICAgICAgICAgIAogICAgICAgICAgICAgICAgICAgICAgICAgICAgPD94cGFja2V0IGVuZD0ndyc/Pv/bAEMABwUFBgUEBwYFBggHBwgKEQsKCQkKFQ8QDBEYFRoZGBUYFxseJyEbHSUdFxgiLiIlKCkrLCsaIC8zLyoyJyorKv/bAEMBBwgICgkKFAsLFCocGBwqKioqKioqKioqKioqKioqKioqKioqKioqKioqKioqKioqKioqKioqKioqKioqKioqKv/AABEIAdQCeAMBIgACEQEDEQH/xAAfAAABBQEBAQEBAQAAAAAAAAAAAQIDBAUGBwgJCgv/xAC1EAACAQMDAgQDBQUEBAAAAX0BAgMABBEFEiExQQYTUWEHInEUMoGRoQgjQrHBFVLR8CQzYnKCCQoWFxgZGiUmJygpKjQ1Njc4OTpDREVGR0hJSlNUVVZXWFlaY2RlZmdoaWpzdHV2d3h5eoOEhYaHiImKkpOUlZaXmJmaoqOkpaanqKmqsrO0tba3uLm6wsPExcbHyMnK0tPU1dbX2Nna4eLj5OXm5+jp6vHy8/T19vf4+fr/xAAfAQADAQEBAQEBAQEBAAAAAAAAAQIDBAUGBwgJCgv/xAC1EQACAQIEBAMEBwUEBAABAncAAQIDEQQFITEGEkFRB2FxEyIygQgUQpGhscEJIzNS8BVictEKFiQ04SXxFxgZGiYnKCkqNTY3ODk6Q0RFRkdISUpTVFVWV1hZWmNkZWZnaGlqc3R1dnd4eXqCg4SFhoeIiYqSk5SVlpeYmZqio6Slpqeoqaqys7S1tre4ubrCw8TFxsfIycrS09TV1tfY2dri4+Tl5ufo6ery8/T19vf4+fr/2gAMAwEAAhEDEQA/APMR4j1z/oM6h/4FP/jSjxHrn/QZ1D/wKf8AxrMpwoA0v+Ei1v8A6DGof+BT/wCNL/wkWt/9BjUP/Ap/8azRXorJcnwuEAlOiPoSiMLkwtd+aOB283fn/axntQBxv/CRa3/0GL//AMCn/wAacPEWtf8AQYv/APwKf/Guz0GC8tdE06IxzRacgvk1lMMqK4UjEw6BsbdobnPTmp4brWLPSdKluNOv5J7O9heC2lkD/ah5TD/Rti4VQBkhQwOVO7I5AOGHiHWv+gxf/wDgS/8AjSjxDrX/AEF7/wD8CX/xrR8ZQype2Ut3LqRuprYNLb6nMZZ7f52AUtgcEDcAQDz7gnnRQBpDxDrX/QXv/wDwJf8Axpf+Eg1r/oL3/wD4Ev8A41QxH/eb/vkf404CP+83/fP/ANegC9/wkGs/9Be+/wDAl/8AGl/4SDWf+gtff+BL/wCNUcR/3m/75/8Ar0oEf95v++f/AK9AF7/hINZ/6C19/wCBL/40v9v6z/0Fr7/wJf8AxqjiP+83/fP/ANelxH/eb/vn/wCvQBeGv6x/0Fr7/wACX/xpRr+sf9Ba+/8AAl/8ao4j/vN/3z/9elxH/eb/AL5/+vQBeGvax/0Fr7/wJf8Axo/t7WP+grff+BL/AONUsR/3m/75H+NLiP8AvN/3z/8AXoAu/wBvax/0Fb7/AMCX/wAaX+3tY/6Ct9/4Ev8A41SxH/eb/vn/AOvS4j/vN/3z/wDXoAu/29q//QVvv/Ah/wDGl/t3V/8AoK3v/gQ/+NUgI/7zf98//XpQI/7zf98//XoAu/27q/8A0Fb3/wACH/xo/t3V/wDoKXv/AIEP/jVPEf8Aeb/vn/69LiP+83/fP/16ALn9u6v/ANBS9/8AAh/8aX+3NW/6Cl7/AOBD/wCNUgI/7zf98/8A16UCP+83/fP/ANegC7/bmrf9BS9/8CH/AMaP7c1b/oKXv/gQ/wDjVPEf95v++f8A69LiP+83/fP/ANegC5/bmrf9BS9/8CH/AMaX+3NW/wCgpe/+BD/41TxH/eb/AL5/+vRiP+83/fP/ANegC5/bmrf9BO8/8CH/AMaX+29W/wCgnef+BD/41TxH/eb/AL5/+vS4j/vN/wB8/wD16ALf9t6t/wBBO8/8CH/xpf7b1X/oJ3n/AIEP/jVTEf8Aeb/vn/69GI/7zf8AfP8A9egC5/beq/8AQTvP/Ah/8aP7b1X/AKCd5/4EP/jVTEf95v8Avn/69LiP+83/AHz/APXoAt/21qv/AEE7z/wIf/Gj+29V/wCgnef+BDf41UxH/eb/AL5/+vRiP+83/fP/ANegC3/bWq/9BO8/8CG/xpf7a1X/AKCd5/4EN/jVTEf95v8Avn/69LiP+83/AHz/APXoAtf21qv/AEErz/v+3+NL/bWqf9BK8/7/ALf41UxH/eb/AL5/+vRhP7zf98//AF6ALf8AbWqf9BK8/wC/7f40f21qv/QSvP8Av+3+NVcR/wB5v++f/r0Yj/vN/wB8/wD16ALf9tap/wBBK8/7/t/jR/bWqf8AQSvP+/7f41V2p/eb/vn/AOvRiP8AvN/3z/8AXoAt/wBs6p/0Erz/AL/t/jR/bOqf9BK8/wC/7f41UxH/AHm/75/+vS4T+83/AHz/APXoAtf21qn/AEErz/v+3+NH9tap/wBBK8/7/t/jVXbH/eb/AL5/+vRiP+83/fP/ANegC1/bOqf9BK8/7/t/jS/2zqn/AEErz/v+3+NVcR/3m/75/wDr0Yj/ALzf98//AF6ALX9s6p/0Erz/AL/t/jR/bOqf9BK7/wC/7f41VxH/AHm/75/+vRhP7zf98/8A16ALX9s6p/0Erv8A7/t/jR/bOqf9BK7/AO/7f41V2p/eb/vn/wCvRtj/ALzf98//AF6ALX9s6p/0Erv/AL/t/jR/bOqf9BK7/wC/7f41V2x/3m/75/8Ar0Yj/vN/3z/9egC1/bOqf9BK7/7/ALf40f2zqn/QSu/+/wC3+NVcR/3m/wC+f/r0Yj/vN/3z/wDXoAtf2zqn/QSu/wDv+3+NH9s6p/0Erv8A7/t/jVXbH/eb/vn/AOvRtj/vN/3z/wDXoAtf2zqn/QSu/wDv+3+NH9s6p/0Erv8A7/t/jVXan95v++f/AK9GE/vN/wB8/wD16ALX9s6p/wBBK8/7/t/jR/bOqf8AQSvP+/7f41Vwn95v++f/AK9GI/7zf98//XoAs/2zqn/QSvP+/wC3+NH9tap/0Erz/v8At/jVbEf95v8Avn/69JiP+83/AHz/APXoAtf21qn/AEErz/v+3+NH9s6p/wBBK8/7/t/jVXbH/eb/AL5/+vRhP7zf98//AF6ALX9s6p/0Erz/AL/t/jSf21qn/QSvP+/7f41VxH/eb/vn/wCvRiP+83/fP/16ALX9tap/0Erz/v8At/jR/bOqf9BK8/7/ALf41V2x/wB5v++f/r0mI/7zf98//XoAtf21qn/QSvP+/wC3+NH9tap/0Erz/v8At/jVXEf95v8Avn/69JhP7zf98/8A16ALf9tar/0E7z/v+3+NJ/bWq/8AQTvP/Ahv8aq4j/vN/wB8/wD16MR/3m/75/8Ar0AWv7a1X/oJ3n/gQ3+NFVMR/wB5v++f/r0UAcyKWkFOFABTqQUooAUU4UlLQAopRSUtACiloFLQACnUgpRQAtLSUtACilFJTqAAUoopaAClopaACloFKKAAUtJS0ALS0lKKAClopaAClpBS0AFLRSigAoopaACiiloAKWiloASlooxQAUtFGKACloooAKKXFFABiiiigAopcUUAGKKKKACilxRigBKKXFFACUUtFACUUtFACUUtFACUUuKMUAJRS4pKADFJS0UAJRS0YoASkpaKAEopaSgBMUUtGKAG4opaKAEooooA5sUtFKKAFpRSCnCgAFKKKWgBRSikpwoAKUUUooAWlpBS0ALS0lOoABSiiloABSiiloABS0UtABS0CloABSiiloAKWigUALRRS0AFLQKKAClopRQAUUUooAKWiloAKKKWgAoopaACiilxQAlLRRQAUUuKKACiilxQAlLiiigAxRRS0AJRS4oxQAlFLS0AJRilooATFGKWigBKKWigBtFOpMUAJRS4ooASjFFFACUUtGKAEoxRRQAlFLSUAJiilooASkpaKAEooooA5sUopKdQAopRSCnCgApwpBS0AKKUUlOoABTqQUtAC0opKWgBRSikp1AAKUUUtAAKUUUtAAKWilFABS0ClFABSiiloAKWkFKKAFFFFLQAUtAooAWiiloABS0UUALRRS0AFFFLQAUUUtABRRS0AJS0UUAFLRiigAoopcUAJS4opaAEpaKKACijFFABRS0UAJijFLRQAmKMUtFACYopaKAEopaKAEooxRQAlGKWigBKSnUmKAEoxRRQAlFLSUAFJS0UAJSUtFACUUUUAc2KUUgpwoAWremWq32rWlo7FFuJ0iLDqAzAZ/Wqgp8btHIrxsUdTlWU4IPqKAOl8QWOn/2XJd2FilibfUpbPYkjt5iBQVJ3sfmGDnGByOBWlfaRo1rJfwtYoi6TNah5mmkBuFcYfzOWwM4PyKCACOa5y98R6lqLZvJIJM+YSotYlBZxhnICgFzgfP8Ae4HPFSnxVrJ8nN0uYih3eRHukKKVXzDtzJhSR8+eCfWgCXxRZ2dtc2UumwxJb3Fqr77dnaGR9zBinmEuAMYIbByDxgisQDNWtQ1O71SSN7x1PlJsjSOJY0Rc5wqKAo5JPA6mqwoAeIpP+ebf980oik/55t/3zTKWgB4ik/55t/3zSiKT/nm3/fNMpaAJBFJ/zzb/AL5rf0Lwsup2KXd9dS2kU19HYwmO3EpMjAnLAsuFAxzz16VztdFofiaLS9Pjs7yxa7igv47+Hy5xERIoxhsq2VPHAweOtADLPwy7Tat/acz20Gk/LPJDF5pZ94QKqllzk55z2rUHgNV1W406TUyLlWk8lhb5jZFiEiu7FgVDA44DYIOe2aFv4lgEeppf2MtwurAteeXciPMnmb1ZPkO0DkYO7Pt0rSt/iLaXN9fW+p6XJCdSk2ieG6C7IgoVYeUPy4HJ7nrgcDSnGMpcsiJtpXQ2HwCbgiCDUf8ATIzafaYpIdqRifGNrhjvK7lzwM54J6Vla1oCada2l3Y3T3ltdNKgMluYnR42wwK5OAQVI5zzyBita/16fStIj06BtSe0keEu8l/u8oRncEhGz91yAQfmxtHpzl+IPEcuuQWVu32gxWavte7uTPK5c5JZ8D0AAxxilUpypycJbocJKceZGP5Un9xvypfKk/55t+VMFKKgof5Un9xvypfKk/uN+VMFLQA8RSf3G/Kl8qT+435UyloAd5Un9xvypfKk/uN+VMFLQA8RSf3G/Kl8qT+435UyloAf5Un9xvypfKk/uN+VMFFAD/Kk/uN+VL5Un9xvypgpaAHiKT+435UeVJ/cb8qbRQA8RSf3G/KjypP7jflTaWgB3lSf3G/KjypP7jflTaWgB3lSf3G/Kl8qT+435UyloAd5Un9xvypfKk/uN+VMooAf5Un9xvypfKk/uN+VMooAf5Un9xvyo8qT+435U2loAd5Un9xvyo8qT+435U2igB3lSf3G/KjypP7jflTaWgB3lP8A3G/Kjy3/ALjflTaKAHeW/wDcb8qPLf8AuN+VNoxQA7y3/uN+VHlv/cb8qbiloAXy3/uN+VHlv/cb8qSigBfKk/uN+VHlv/cb8qSigBfLf+435UeW/wDcb8qSigBfLf8AuN+VHlv/AHG/Km4oxQA7y3/uN+VHlv8A3G/Km0UAO8p/7jflSeVJ/cb8qSigBfKk/uN+VHlSf3G/KkpMUAO8qT+435UnlSf3G/KkooAXypP7jflR5Un9xvypuKSgB3lSf3G/KjypP7jflTaKAF8qT+435UeVJ/cb8qbRQAvlSf3G/Kim0UAc3SikFOoAUUopKWgBadSUooAWlFIKUUAKKUUClFACilFIKUUAKKWkFKKAFqK4t1njIIqUU4UAX9D1MXcR0rVPnfbiNm/5aL6f7w9f6iq95ZvY3PlPko3KP/eH+NULm33gPGSsinKsDggjvW9pt9Hr1g9pe4W7iGWwOvo4/r/9evQg1iYezl8S2ffy/wAjkknRlzr4Xv8A5mXS06WGS2naGcYde/Yj1FJXA007M6k01dBSiilpDClpBSigBaUUlLQAUtFKKAClpKWgBaKBS0AFLSCloABS0UUAKKKKKAFooooAKWiigApcUUtABRRRQAYpaKKACiijFABRilooAKKKKACijFLigBKKXFFACUUtFACUUuKMUAJRRiigAooooATFFLRQAlFFFACYopaKAEpKWigBtFLSUAFJS0UAIaKKKAOaFOpBSigBacKQUooAUUtIKdQACnUgpaAFpaSlFAC0tApRQAtLSClFAC0tIKUUALVaVJIJkurRtk0ZypH8qs0pGetNNp3Qb6M14pYPEWmiSPEdzFwyn+BvQ+x9f8CKysMjMkilXU4YHtVVJJtLvVvLQZxw6Z4dfSuguYodYskv9POZMcr3b/ZPuP8APau+SWKhzr41v5rv6nIv3EuV/C/wMoUtNU5FOFeedYtLSCloAUUUUooAKWgUUAKKWkpRQAtFFLQAUtIKWgApaBRQAUtAooAKWgUUAFKKKWgAoopaACiiigAooxS0AFFFFABRS0UAGKKKKACiiigAoooxQAUUYoxQAUUUUAFFFFABSYpaKAEopaSgApMUtFACUUtJQAUlLRQAlJS0UANopTSUAJRS0UAc0KcKQUtACilpK6I+GEGl+b9tY3wsRqBtvJGzyi2MeZuzuwd2NuMd80AYApa39N8MpfafaySXrRXV8JjaQrCGV/KGTubcCuSCBgHpzip9N8K2mqpZmy1WRzLdxWsxNoQEZ0ZsoS3z42kHIU9PWgDmhSir+s6aNKvhbhL5PkDEX1p9nk5z/Dubj3zVEUAKKUUlLQAopRSUtACilFFLQAopRSUtACilFJSigAKhhg1FZXsmiXpkAL2sh/eoO3+0Pf8AnUwpHjEikGrhOUJKUd0TKKkrM1dStEkjF/ZENG43Pt6Ef3h/Ws0HI4pNH1NtIufst03+hyH5WP8AyyY/0P8A9f1q9qdh9kk86Ff3DHkD+A/4V11oRqw9vT+a7efoc9OTpy9nP5MqCgUUorhOoKWgUUALS0lKKAFpaQUtABS0gpRQAtFFKKACiilFABS0lLQAUtJSigApaKBQAUtFFABRQKWgAooooAKWiigAoooxQAUYpaKADFFFFABRRRQAUUUUAFFFFABRiiigBKKWjFACUUUUAJiilooASiiigBKKWkoAKSlpKACkpaSgBKKKKAObpaQUooAUV0f/AAk8TacsZsHF59hGnvOs4CGENnITbkPtG3O4jHaudFKKAOktPFFvZ2sCRafIZrIziyla5H7tZQeJBs+crkkEFee3amXes6NdWNlaLpV7DDbDmOO/Ta7H77nMOd7YHJJwAABgDHP04UAaer6pHqC2cFrBJBa2cPlRJLL5r8szEltq55Y8AAAfiTnCkpaAJPMb0X/vgUvmN6L/AN8Co6cKAH+Y3ov/AHwKXzG9F/74FMFKKAJPMb0X/vgUvmN6L/3wKjFKKAJPMb0X/vgUvmN6L/3wKYKBQBJ5h9F/74FL5jei/wDfAqOnUAP8xvRf++BSiRvRf++BTKWgBk6efGVYL/3yKtaFqexv7K1Egqw2ws3Qj+4f6fl6VDVe6tlnjPY9jW1GtKjPmX/DmdSmqkbM0r23ksZ9uFaJj8jbR+R96i8w+i/98CrGkaiuqW7adqP/AB8IOG7yD+8Pcf571Xnge1uDDLz3VsfeHrWtejFJVafwv8H2M6VRt8k91+IvmH0X/vkUCQ+i/wDfIplLXIdA/wAxvRf++RS+YfRf++RTBS0APEh9F/75FHmH0X/vkU2gUAP8w+i/98ilEh9F/wC+RTKWgB3mN6L/AN8ineYfRf8AvkVGKWgB/mH0X/vkUvmH0X/vkUwUUAPEh9F/75FL5h9F/wC+RTKKAH+YfRf++RS+YfRf++RTKWgB3mH0X/vkUvmH0X/vkUwUtADvMPov/fIo3n0X/vkU2loAd5h9F/75FHmH0X/vkU2igB+8+i/98ijzD6L/AN8im0UAO8w+i/8AfIo8w+i/98im0tADt59F/wC+RR5h9F/75FNooAd5h9F/75FHmH0X/vkU2igB3mH0X/vkUeYfRf8AvkU2lxQAvmH0X/vkUeYfRf8AvkUmKKAF8w+i/wDfIo8w+i/98ikooAXzD6L/AN8ijzD6L/3yKTFGKAF8w+i/98ijzD6L/wB8im0UAO8w+i/98ijzD6L/AN8im0UAO3n0X/vkUm8+i/8AfIpKKAF8w+i/98ijzD6L/wB8im0UAO3n0X/vkUnmH0X/AL5FJSGgB3mH0X/vkUFz6L/3yKbRQAvmH0X/AL5FHmH0X/vkU2igBTIfRf8AvkUeYfRf++RSUlACmQ+i/wDfIopKKAOZFOFIKUUAKKUUlOFAC0opKUUAKKUUgpwoAUUopBSigBRSikFKKAFFOFIKWgBRSikpRQAopRSClFAC0tIKWgBaWkpaAKtzA25Z7diksZ3Kw7Gtyzuotf08pKBFdw/eA/hPqPY/59azu1VHE1ldLeWZ2yJ1HZh3B9q6cPW9m3GWsXujGrT51dbrYulXjkaKUbXU4IorRJh1zT0urX5Zl4Kk8g91P+f51nA9QQQQcEHsaVej7KWmsXswpVOda7rcUUopKUVzmwtLSUtAAKWgUUAKKKKUUAFLSUooAKWkpRQAtFFAoAWiiigAFLRRQAUtAooAKKKUUAFFFFABRRRQAUuKKKACiiigAooooAKKKKACiiigAoxRRQAlFLRQAlFFFABSUtFACUUUUAJRS0lABSUtIaACkNLRQAlFFFAHNClFJS0ALThSUooAUUopBThQAopRSCloAUUtJS0ALTqSloAWlpKWgBaWkpaAFFLSUtACilFJSigBRS0gpaAFoIyMGiloAqwzy6PffaoAWibiWMfxD/EVuXkEd9bpf2BDhlycfxD/ABHpWYyB1wwqLTr5tEvCsmTZyn5wOdh/vD+tdlCrFx9jV+F/g+5z1abv7SG6/EsAhhkU6reoWYj/ANKtsNC/LBeQM9x7GqYOawq0pUp8sjWnUVSPMhRS0gpayLFoFFKKAClFJS0AFLSUtABTqQUtABS0gpaACgUUtABRRQKAFooooAKWiigAooooAKWiigAooooAKKKKACiiigAooooAKKKKACiiigAooooAKSlpKACiiigANJS0lABSGlooASiiigBKKKKAENFBooA5qlpKWgBwpRSCrmkzRW2s2U9z/qY7iN5OM/KGBPHfigAvNMv9N8v+0bK4tDKNyefEybx6jI5qRtI1JIbeZ9PuliuiFgcwMFmJ6BTj5ifauh8QIrabc2322zuZ5dTuL1Gju42HlbRlshsAtgYX7x29Olad/LHcTak1nqtnF/ak1n9ik+1onlBUOWfBzGEXK8gHnABoA4e8sbvT7jyL+1mtZgATHPGUbB74PNQ1ueKl8q6s7aOSGW2tLYW8EkdzHMZAGZix2M23LMxCk8DA7Vh0ALTqXMf91v8Avr/61LmP+63/AH1/9agBKWnZj/ut/wB9f/Wpcx/3W/76/wDrUANpRTgY/wC63/fX/wBalBj/ALrf99f/AFqAG0tOBj/ut/31/wDWpcx/3W/76/8ArUANp1LmP+63/fX/ANalzH/db/vr/wCtQAlKKXMf91v++v8A61LmP+63/fX/ANagBBQKcDH/AHW/76/+tSgx/wB1v++v/rUANpadmP8Aut/31/8AWpcx/wB1v++v/rUANpksSyxlWGamzH/db/vr/wCtSgx/3W/76/8ArUAR6NqJsJhp96c28hxE7fwk/wAJ9j/n2tX1mbKXKZMLn5f9k+lUrq3iuIipRun97/61W9H1EXCnS9R+Z8YjZj/rF9PqPWu+lJV4exnv9l/octSLpS9pHbqv1IhSipZ4Psc3lSBip5R933h+XWmgx/3W/wC+v/rVxSjKEnGW6OmMlJXQ2lpcx/3W/wC+v/rU7Mf91v8Avr/61SMZS07Mf91v++v/AK1LmP8Aut/31/8AWoAaKKcDH/db/vr/AOtS5j/ut/31/wDWoAaKWnAx/wB1v++v/rUZj/ut/wB9f/WoAaKWnZT+63/fX/1qMp/db/vr/wCtQA2lpwKf3W/76/8ArUZT+63/AH1/9agBtLS5T+63/fX/ANalyn91v++v/rUANop2U/ut/wB9f/WpQU/ut/31/wDWoAbRTsp/db/vr/61GU/ut/31/wDWoAbSilyn91v++v8A61Oyn91v++v/AK1ADKKflP7rf99f/Woyn91v++v/AK1ADKKflP7rf99f/Woyn91v++v/AK1ADKKflP7rf99f/Wpcp/db/vr/AOtQAzFFPyn91v8Avr/61GU/ut/31/8AWoAZRT8p/db/AL6/+tRlP7rf99f/AFqAGYop+U/ut/31/wDWoyn91v8Avr/61AEdFP8Ak/ut/wB9f/Woyn91v++v/rUAMop+U/ut/wB9f/Woyn91v++v/rUAMop+U/ut/wB9f/Woyn91v++v/rUAR0U/Kf3W/wC+v/rUmU/ut/31/wDWoAbQadlP7rf99f8A1qMp/db/AL6/+tQAyinZT+63/fX/ANajKf3W/wC+v/rUAMop5Kf3W/76/wDrUmU/ut/31/8AWoAYaKeSn91v++v/AK1JlP7rf99f/WoAbRTsp/db/vr/AOtRQBy9KKSnCgBRSikFKKAFFOpop1AC0tJS0AOpRSClFACilFIKUUAKKcKaKcKAFFFApRQAopaQUtAC0tJS0AKKUUlKKAFFFApRQAUopKUUAKKq3lr5qh4yVkU5VgcEH1q0KWgC3pt6ms2bWt5hbqIZbA6+jj+v/wBeqzxvBK0Uww6/kR6iqNzDJFMl1aNsmjOVI/lW3DNFr2niSPEdzHwyn+BvQ+x9f/1V6K/2uFvtr8V/mcn8CV/sv8ClS00ZDFXG11OCD2p1ecdYoooFFACiiiigBaWiigBaKKKAAUtFFAAKWgUUAFLSUtABRRRQACloFFABRRRQAUUUooAKKKKACiiigAooooAKKKKACiiigBKKKKACiiigANJS0lABRRRQAlFFFAAaSlpKACkpaSgAooooA5mvWNO1bQbTw5ZpcXsNncQWsBiM+hNN9mdgS7huNxc8gnjjjNeT167pTQv4Xtjren6ElsbW3E0tzev5hABEJZFHGRkj2zQB5t4g80+Ir43FxJcyecd00sBhZ/cofu/Ss8Vq+KXuJPFmptexRwz/AGht6RtuVeex7j3rKoAcKWkFLQAtKKSlFADhSikFKKAFFKKQUooAUU4U0U4UAKKUUgpRQAopRSClFAC0tJS0ALSikpRQAopRSClFABSikpRQAopaQUtAG7ollaNoWsand2q3bWSwrFDIzBMu+CTtIPAHHPerZ8N2ej+Pdda3RpLXTbGa7S2LECXCBlRiDnALDnOflrEsNVu9NEy2kiBJ1CyxyRLIjgHIyrAg4I4OOKnXxBqS3T3PnIZpDIZHaCNjJvGGDZX5lI/hOQOwpqTi7oTSaszp7jStIuzFdR2DF77Rjdwp5zKsL+U7dMknlBjLY5Oc8YydKFg3h/ULzUdHtdtqiwxSGSZXkuGPAI37TgBmIAHQVh/8JTr2nak9/BNDN5iLE8UltEVEaqVCINuEG0kYUAHuDWh/ao8RaX5UM/lrHK0xgChNsjAAllHXgYB7du4rsUFidY/F27nPzex0lt+Ra1eKyj8N2E39m29nfXkjSqIJJTiAfKNyuzfebJBHZfesCrF/d3lzcr/aLlpI41jTgBQijChQOMYHb375qvXG007M6E01dC0UUtIYtFFAoAWiiigBaKKKAFFFAooAKWkpaACiiigBRRQKKACiiigApaSloAKKKKACiiigAooooAKKKKACiiigBKKKKACiiigApKWkoAKKKKAENFBooAKSlpKACkpaSgAooooA5muptPiBrVpp8Vki2MkMUaxjzbNHJVRhckjnArlqcKALWoX8+qajPfXjBp53LuVUKMn0AquKQUooAcKWminUALSikpaAHClFIKUUAKKUUgpRQAopwpopwoAUUopBSigBRS0gpaAFpaSloAWlFJSigBRSikFKKAClFJSigBRS0gpaAFpRSUooAQgNwaozWstvOLmxcxTL0I7+x9RV+lpptO6E1fRliw1W31hBa3qCG6A+7nG73U/0/nTLi2ktGAk+ZCcK47/4VnXdisw3L8rqchhwQat6frpTFlrWMH5VnYcN7N6fX/8AXXeqkMSuWrpLo+/r/mcrhKi7w1Xb/IfRVm6sWt8yQ5eLqR1K/wCIqsDnpXHUpTpS5Zo6ITjNXiOooorMsWiiigBaKBRQAoopBS0AFLSUtABRRRQAoooFFABRRRQAUtJSigAooooAKKKKACiiigAooooAKKKDQAlFFFABRRRQAUlLSUAFFFFACGiiigApKWkoAKSlpKACiiigDmaUUlLQA4V3D2lsujmzNpbrANBW+E/kr5nnGQfN5mN2MnZtzj2zXDiri6rqC2C2S39yLRG3rAJm8tWznIXOAc85oA6zQ7S2OmaNbyWlu8OopeNdTSQqzjYpwVcjcm0ANwR15zVaG50610/wzf3unQeTHPOtwsUIYzKuzltx+Y5JOCcc4GBgVz41jU/IuIf7Ru/KunL3Cee22Zj1LDPzE+pqceI9bEUUY1jUAkODEv2p8R4GBtGeMDjigCz4khAksryOeOaK8t/Mj22UdowAdl+aOP5eqnnJz+FYw61Nd3t1qFwbi/uZrqYgAyTSF2IHTk81DQBJ5beq/wDfYpRG3qv/AH2Kjp1AEgjb1X/vsUojb1X/AL7FR0ooAkEbeq/99ilEZ9V/77FRilFAEgjb1X/vsUvlt6r/AN9io6WgCQRt6r/32KXyz6r/AN9imUtAD/Lb1X/vsUvlt6r/AN9imUtADxG3qv8A32KURt6r/wB9imClFADxGfVf++xS+WfVf++hUYpaAJPLPqv/AH0KURn1X/voVHSigCQRn1X/AL6FHln1X/voUwUtAD/LPqv/AH0KURn1X/voUygUAP8ALPqv/fQp3ln1X/voVHS0APEZ9V/76FQ3FitwhDBD/wACFPpaAK1jqFzorCG5/fWfQYYFo/p6j2rWktYrqFbrTnV1cZwp4b6eh9qoPGsqkMM1Sia60aczWfzxMcyQk8N/gfeuyniIuPsq2sfxXoc06TT56ej/ADNMITwdoI4ILDIpfLPqv/fQqxDLaa3bma1bZMvDA/eU+jD+tVXV4pDHKu1h+tZ1sPKl7y1i9mXTqqej0fYf5Z9V/wC+hR5Z9V/76FNornNh4jPqv/fQo8s+q/8AfQpgpaAHiM+q/wDfQo8s+q/99CmUtADvLPqv/fQpfLPqv/fQplKKAHeWfVf++hR5Z9V/76FNooAeIz6r/wB9Cl8s+q/99Co6WgB/ln1X/voUeWfVf++hTKKAH+WfVf8AvoUeWfVf++hTKKAJPLPqv/fQo8s+q/8AfQqOloAf5Z9V/wC+hR5Z9V/76FMooAf5Z9V/76FHln1X/voUyigB/ln1X/voUeWfVf8AvoUyigB/ln1X/voUmw+q/wDfQptJQA/yz6r/AN9Cjyz6r/30KZRQA/yz6r/30KPLPqv/AH0KZRQA4xn1X/voUnln1X/voU2igB3ln1X/AL6FHln1X/voU2igBfLPqv8A30KPLPqv/fQptFADjGfVf++hSeWfVf8AvoU00UAO8s+q/wDfQpPLPqv/AH0KQ0lADvLPqv8A30KKbRQBzNLSUtADhSikpRQAop1NFOFAC0tIKWgBadTaWgB1LSUtAC0opKWgBaWkpaAFp1NpaAHUoptKKAFFKKQUtAC0tJS0ALSikFKKAFpaSloABSikFLQAtKKSlFABS0lLQAooIDDBpKWgDPmtZbecXVg5ilXuO49D6itew1S31hBbXiCG7Ufdz191P9P51DVK8sFmw6fK6nKsOCDXRRrypabxe6MalJT12fc0p7eS1bEnKE/K46H/AAplRafrm3/Qtaxzws5Hyt7N6H3q5dWTW+Xiy8XUjuv/ANatalCMo+1o6rquqIhVafJU0f5kFLTQcjinVxHSFLSUCgBaKKKAFooooAKUUlFAC0UUUAFFFFABRRRQAuaKSigBaKSigBc0lFFABRRRQAUUUUAFBopKACiiigApDS0lABRRRQAlFFFACGiiigAopDRQBzQpRSClFAC04U2nCgBRSikpRQA4UopopwoAUUtIKUUALTqaKUUAOpaQUtAC0tJSigBRSikFKKAFFKKQUtAC0tJS0ALS0lKKAFFLSCigB1LTaUUALS0lLQAtAoFFAC0opKBQAtLSUooAKWkpRQBBc2qXCEMBUdjqdxoziG53TWfQHq0f09R7fl6VcpkkSyqVYZrSnUnSlzQepE4RmrSL0ltFcwrdacyujjOFPDfT0PtVRTnIPBHBB7VnRNdaNOZbP54WOXhJ4b/A+9bcMtprUBntH2TLwwPBU+jD+tdjpwxK5qWku3f0/wAjnUpUXaese/8AmV6KGVo5Ckq7WHb1orgaadmdSaauhaKQUtIYUtJSigAooooAKWkooAWiiigAooooAKKKKACiiigAooooAKKKKACiikoAKKKKACiiigANJRRQAUhpaSgAoNFJQAUUUUAJRRRQBzIpwpopRQA4UopBU1pbSXl5Daw48yaRY0ycDJOB/OgBlKK2dZ0KDTrU3NjevdxR3UlpKXgEW2RQDkfM2VOTg8HjkCrN94Wis4ZgNSBuLN4EvRJAVji80dVZSxYKeD8oPoDQBzwpRV/W9NXSNYls45zcIioyyFNhYMgbpk4+961QoAcKUU2nCgBRSikFKKAFFOFNFKKAHClFNFLQA4UoptOoAWlpKWgBaWkFAoAcKUU0UtAC0tJS0AKKUUgpaAFpRSUCgBRS0lLQAoopBS0ALRQKKAFpaQUUAOopKWgAZQwwazprSW2uBdWDmKVe47j0PqK0RS9aabTuhNJqzJbDVLfV0Fvdr5N2o+5nr7qf6fzpJoJLZsScqThXHQ1m3lgs2HTKyKcqynBB9atafreP9C1nAzwsxGFb2b0PvXeqkMSuWrpLv39f8zlcZUXeGq7f5EtLU1zZtb5ePLxdT6r/APWqAHPSuOpSnSlyzWp0QnGavEWiiisyxaKSloAKKKKAClzSUUALRSUuaACijNFABRRRQAUUZozQAUZpKKACiiigAooooAKSiigAoopDQAUUUUAFJRRQAUhpaSgAooooA5mlpBS0AKKsWdzJZXsF1DjzIJFkTcMjKnI/lVenUAdBqev2V/byW8GnTW8ElxLduv2oMfOcYGDsHyL/AHcZOT83pNfeKLa/jnD6dLG988LXzJcjEgjGMRjZ8mTyc7uQK5oUooA1vEGqW2sal9rtbSa1LRojrJOJc7VCgghFxwo9eazBSClFAEnmyf8APRv++qXzZP8Ano3/AH1UYpaAJPNk/wCejf8AfVL5sn/PRv8Avqo6WgCXzZP+ejf99Uvmyf32/Oo6WgCTzZP77fnS+bJ/fb86jpaAJPNk/vt+dL5sn99vzqMUooAk82T++350olk/vt+dRilFAEglk/vt+dL5sn99vzqOloAk82T++350vmyf32/Oo6UUAP8ANk/vt+dKJZP77fnTBRQBJ5sn99vzpfNk/vt+dR0ooAkEsn99vzo82T++350wUtAD/Nk/vt+dKJZP77fnUYpaAH+bJ/fb86XzZP77fnTKUUAP82T++350vmyf32/Oo6UUAP8ANk/vt+dL5sn99vzqOlFAD/Nk/vt+dL5sn99vzqOlFAD/ADZP77fnS+a/99vzplAoAf5j/wB9vzq7pOi22tS3n9oPL5FpaSXLrEwVn2jhQSCBkkc4NUKu6Xqk2k3EskKRyrNC8EsUoO2RGGCDggjscgg8UAaOnaK1p4w0jR4pZW0zU7WO5jMrhpbdShZl3AAN91gOB2rV/wCEd0u48NjxJZPdSWbRcWiXKhmfzQuQ+zAGMnG3rxWJ/wAJLdLqlrfxW9vHcWmxYCA5CRqu3y8FjlSCc5+bnrVVvFuq6faCysLKwGmLEYxp5WQx58zzN+d+/dn/AGsY4xXQqzlFQqapfevQy9mk3KG52Z8CwC/FpHLfXAmllUXMTDZaARq8YlG05J3DuvtWHqWgDTPCsV9PcTf2g1wiSw5wsSujMFI67sAH23YxVCD4hx3l5NPqNpDaajNuAum35QMNuEbdhfl4yRkeuat3eratd6I9gb+W7t5JVlJmmZmIA4UMTgrnBxjqAc1f1WUo81P3vz+4n28U7T0MLzH/AL7fnR5r/wB9vzprAo22RSrehFFcjTWjN9x/mv8A32/OjzH/AL7fnTKKAH+Y/wDfb86PMf8Avt+dNooAd5j/AN9vzo8x/wC+3502igB3mP8A32/OjzH/AL7fnTaKAHeY/wDfb86PMf8Avt+dNooAd5j/AN9vzo8x/wC+3502igB3mP8A32/OjzH/AL7fnTaKAHeY/wDfb86PMf8Avt+dNpM0AP8ANf8Avt+dJ5sn99vzptFADvMf++350eY/99vzptFADvNf++350nmP/fb86bRQA7zH/vt+dBlf++350yigB3mP/fb86PMf++3502kNADvNk/vt+dHmyf32/Om0lADjLJ/fb86KZRQBzQpwpopRQA4UtNFOFADhS00U6gBRSikFLQA4UoptLQA4UopBSigBRSikpRQA4UopopRQA4UtNpaAHClptLQA6lpopRQA4UCkpaAFpaSlFAC0tIKKAHUtNFKKAFpaSlFAC0UlLQAtFIKWgBaKBRQAtLSCigBaWkpaAAUtJRQAtHXrRRQBXnsop1IZRVOOC+0tt2nTsqZyYm5U/h/Uc1qUtVGTi7xdmJpSVmR2/iS3mAh1eDyG/v43IT/Mf55q+bJJYxLZSq6NyPmyD9CKzZrSKZcOoNUVs7rT5DJps7RZ5KjlW+o6V2LFRqaV4389n/wTn9i4a0nby6Gu6tE22VSh9+9JUFv4lX/U6xbeX6yIu5D9R1H61oi0huYhNYTqyHphty/nSeFU1ehLm8uoKu4u1VW/Iq0UsiPCcTIV9D2P40lcbTi7M6E01dC5opKKQxaKSigBaKSigBaKSigBc0maKKACiiigAoozSUAGaKKKACkoooAKKKKACkoooAKSg0lABRRRQBzIp1NFOoAWnCm0tADhSikpRQAop1NFKKAHUtIKUUALS0gpRQA6lpopRQA6lpopwoAWlpBSigBRSim06gBRS0lLQAtLTRSigBwopKWgBaWkFKKAFpabSigB1FIKWgBaUU0UtAC0tJRQAtLSUUALS0lFAC0tJRQA6ikpaAClpKKAFooooAWikozQBHLbxyrh1BrPOnzWcpm06Z4X77TwfqOh/GtWimm07oTSasyvb+JJIv3WsW2VPBljGQfqv+H5VpRw2l9F52nTqR/snIz6EdQf84qjJCkq4ZQaz5NMeGXzrGV4ZB/EhxXYsVzLlrLmX4/ec7oWd6bt+RryxSQf61MD+8OQabVS38RXVr+71WDzk6ebEMH8R0P4YrThFjqUZk0+dc9wvb6r1H6U/q0KutCV/J6P/gi9tKGlVfPoV6KfLBLB/rUyv95eRUYIPSuOUZQdpKzOiMlJXQtFFFSUFFGaTNAC0UmaKAFzSUUUAFFFJmgBaTNFFABRRSUALSUUUAFIaKSgAoopKACiiigDmqUU0U4UAOFaX9gaiNK/tEwL9n8vzf8AXJv8vds3+Xnft3cbsY96zBXZHV9MbThci+Xz30ZdNNo0b7lk3AFydu3ZtG7gk54xQBg2mg6je6e15bwK0I343TIrPsXc+xCQz7RydoOKsp4U1l/IC2qFp3RFQXEe5S6lkDruymQCRux0rY03VdLs7XTJJdRjMukfa0MIjkP2neDsaM7cAEtg79pAHTtVufxDZJeX19pmrwxXOpS20kfmwyH7JsUlvMGwg84Ubd2QT0oA429spbCcRTvA7Fd2YLiOZcf7yEjPtmoBWx4jurK5lsxaNayzRwbbmezt/IilfcxGE2r0UqCdoye3c44oAWlFLmP+63/fX/1qdmP+63/fX/1qAGinClzH/db/AL6/+tS5j/ut/wB9f/WoAQUtLmP+63/fX/1qXMf91v8Avr/61ACUtLmP+63/AH1/9alzH/db/vr/AOtQAlLS5j/ut/31/wDWpcx/3W/76/8ArUAJS0oMf91v++v/AK1KDH/db/vr/wCtQAgpRS5j/ut/31/9alzH/db/AL6/+tQAlLS5j/ut/wB9f/WpQY/7rf8AfX/1qAEpRSgx/wB1v++v/rUuY/7rf99f/WoAbS07Mf8Adb/vr/61GY/7rf8AfX/1qAEpaXMf91v++v8A61LmP+63/fX/ANagBKKUGP8Aut/31/8AWpcx/wB1v++v/rUAJS0uY/7rf99f/WozH/db/vr/AOtQAgpaXMf91v8Avr/61KDH/db/AL6/+tQA0UtLmP8Aut/31/8AWpcx/wB1v++v/rUANpadmP8Aut/31/8AWozH/db/AL6/+tQA2lp2Y/7rf99f/WozH/db/vr/AOtQA2lp2Y/7rf8AfX/1qMx/3W/76/8ArUAJRS5j/ut/31/9alzH/db/AL6/+tQA3NLS5j/ut/31/wDWoyn91v8Avr/61ACUU7Mf91v++v8A61GU/ut/31/9agBtGadlP7rf99f/AFqMp/db/vr/AOtQAlFLlP7rf99f/Woyn91v++v/AK1AEbxJIMMM1nzaUBIJbZ2ikXoyHBH41q7k/ut/31/9ajMf91v++v8A61AFG316/sSE1GL7TGP+WiDDj+h/StS3l07VVLWUwWXGSo4YfVf6/rVdkhcYZG/76/8ArVn3OlQOwkhDRupyGVsEH8q7I4uVuWquZee/3nPKgr3g7M1ZrWaDJZd6/wB5ahBB6UugPrV3rFtpUaJdmd9qvK+0oAMli2OQACTwTxW1caZa3E9ktrcRXDagm+2kg3L5vzFSMOAchhgjGRx61XsaVXWjKz7P/MXtKkP4i+aMWiulfwRfJJJ5c9tNBC0qz3CO+2AxgFgw2ZPXjaGzUdp4Pvr3V/sFuYj+4W4FwzsI2RgNp5XOTnGCM5B9K4nFxdmdCaexz1FaEunRwaXBeS3cKtOhkjt8uZGXeUz9zb1U/wAXQVQyn91v++v/AK1IYlJmnZT+63/fX/1qMp/db/vr/wCtQA2inZT+63/fX/1qMp/db/vr/wCtQA2inZj/ALrf99f/AFqTKf3W/wC+v/rUANzRTsx/3W/76/8ArUZj/ut/31/9agBtJTsx/wB1v++v/rUZj/ut/wB9f/WoAZRT8x/3W/76/wDrUmY/7rf99f8A1qAG0lPzH/db/vr/AOtSZj/ut/31/wDWoAaaKdmP+63/AH1/9aigDlxSim06gB1LTRThQAtOpopRQA4UoptOoAUUopBS0AOFKKbS0AOFKKbTqAFFKKSloAUUopKWgBaWkpRQAtLSCloAUUtJS0ALS00UtADhRSUtAC0opBRQAtLSUtACilpKBQAopaSgUAOopKWgBaKSloAWikooAWlpKKAFpaTNFAC5pabS0ALRSUtABmlpKKAFopM0ZoAWiiigAooooA0fD+ow6Rr1te3ETSxR7lkVDhtrKVJHuA2amu73TlbRPsf2iRNDcTW4lhVDPIZvMfcQx2DAGMbulZFFAHVx+OrPTUv7JEv7uy1Ke5mllkhQSW4kA2Kq7yHAIOSSvB9qW0+LWm2uo2kM+mTixtlRBO0X71tqFQSFfHVm4+bGTXJEA9RUb28b/eUVoqskrEOEW7nV6f4l0OTSLu0ttRnmW6gaKPT3JWGFmYNuUO5OVwSDtznvWI+mSD/Vyq3swxWHNpFvL/CBUUdne2WPsN5NGq8hA2V/I8V0KtRl/Eh92n4GTp1F8EvvNp7aeP70LfVef5VEGB71Sj13WLXAuIorlR1ONrH8Rx+lW08UWM21dQtJIW7lkDqv4jn9KfssPP4J29V+qF7StH4o39B2aM1YgbSr7b9jul3EcIr/ADf98nmnvpkq/wCrkV/qMf40ng61rxXMvLUaxFPZ6epUop7288f34W+oGf5VEGB6GuWUZRdpKxupKWqYtFJRUjCijNJQAUUUUAFJRRQAUUlFAHNClFNpwoAcKUU0U4UALSikpaAHClFNpwoAUU6m0ooAcKUU2loAcKUU2loAcKUUlLQAopRSUtACilpKWgBaWkFFADhSikpaAFpabS0AOFFJS0ALS0gooAdRSUooAWlptKKAFpaSloAKWkooAdRSUtAC0UlFAC0tJRQAtFGaKAFopKWgApaSigBc0tNooAdRSZozQAtFJRQAtFFFABRRRQAUUUUAFFJRmgAKg9RUT2sUn3lFS5ooAzptHt5Oi4pkcGo2WPsV7KiqMBC25R+B4rTopqTi7piaT0ZVi8QatbYF1bRXKgdVyjH8eR+lWk8TabccX1vJA2OWePcB9COf0pCoPUVDJaxSdVFdUcZWStJ3XnqYPD03qtPQ0oU02+/48bpS2M7UkBI+oPNEmmTr/q3SQY78E1gzaLBJ0GKETVbP/j0vpcYwFc7wPwOar21Cfxwt6P8AQXs6sfhlf1NWSCaLPmRMABycZH5iowwPQ1Xj8Sanb8XdnFOAOqEof61pabq2na5qdtYNC0NzdSpDGZU4LMwAG5ckcmj2NCfwVLeq/UPaVY/FH7irRXR6j4d01bX7Vo+pG7hFxJbOwUAJImDjG45yCD1rRHw6lkvDaW2pLLPBLGl3ug2rEGUsWU7juxgjGBzWMqE4x5t0aRqxbt1OLpK6u08E/bb7Tkiv2jtb+Nyks0ADh1YqU2KxHoc7sYz34Mel+DJNR0pbuS5eFmMo4hDxQ7FDDzX3DZuzgYDVm6c1umXzx7nMUVMbK6/54H8xRT9lU/lf3C9pDujkxSiminCsyxacKaKUUAOFKKSloAcKUU2loAdSikFLQA6lpopaAHUoptLQA4UoptOoAUUopKWgBRS0lLQAtLSCigBwpRTaWgB1LTaUUAKKWkpaAFpaaKWgBaWkpaAFopKWgBaWm0tADqKSigBaWkozQA6ikozQAtLSUUALRSZpaAFzRSUUALRRmigBc0UlFAC0UlLmgAoozRQAUtJRQAtFJRQAtJRRQAUUZozQAUUUlAC5ozSUUAFFGaSgBaSiigBCoPUU6zYWGpW19AiGa1mSaMMMjcrAjPtkUmaSgC/rV3pup2Zs7fTZrS18+a7CJdgk3EmAGJ2fdUKAFAB/2q1h8Qr611I39nYET3M8Ut+klzvjmVIyhSNduYwclurHOOo4PNUlO7WwrI3bLx3cWN/pz/2bcS2umowhhe7QO7sxLM7iHBGCAAqr06mnWXxDutPsPs0GkOwjM3lB7sbJA6gDz1EY83B9NnGB2zWBSVftaj3kyeSPYr/29rY/5ZWx/wCAH/Gip8UVp9ar/wA7+8j2FL+U5sUtNpwrnNhadTRSigBwrb8HrA3jDSxdbPL+0LjzPu7v4c+27HXisMU6gDqvFhv/AOy9I/t/zv7WxP5v2nPneXvGzdnnGd+M9unFcwKbS0AShF/56L+R/wAKXYv/AD0X8j/hUVOFAEgRf+ei/kf8KXYv/PRfyP8AhUdKKAJNi/8APRfyP+FKEX/nov5H/Co6WgCUIv8Az0X8j/hShF/56L+R/wAKipaAJQi/89F/I/4Uuxf+ei/kf8KipaAJdi/89F/I/wCFLsH/AD0X8j/hUQpRQBLsX/nov5H/AApdi/8APRfyP+FRCloAkCL/AM9F/I/4Uuxf+ei/kf8ACo6WgCTYP+ei/kf8KXYv/PRfyP8AhUYpaAJAq/8APRfyP+FGwf8APRfyP+FMooAk2L/z0X8j/hShV/56L+R/wqOloAk2D/nov5H/AApdi/8APRfyP+FR0UASbR/z0X8j/hS7B/z0X9f8KjpaAH7R/wA9F/I/4Uuwf89F/I/4VHS0AP2j/nov5H/Cl2D/AJ6L+R/wqOloAk2r/wA9F/I/4UbB/wA9F/I/4UyigB+0f89F/X/Cl2r/AM9F/I/4UyigB+0f89F/I/4Uu1f+ei/kf8KjzS0AP2D/AJ6L+R/wpdg/56L+R/wqOloAftH/AD0X8j/hRsX/AJ6L+v8AhTKKAJNg/wCei/kf8KNg/wCei/r/AIVHmloAftH/AD0X8j/hRtX/AJ6L+R/wplFAEm1f+ei/r/hRsH/PRfyP+FR0UASbB/z0X8j/AIUbB/z0X8j/AIVHmlzQA/YP+ei/kf8ACjYP+ei/kf8ACmZozQA/YP8Anov5H/CjYP8Anov5H/CmZozQA/YP+ei/kf8ACjYP+ei/kf8ACmZozQA/YP8Anov5H/CjYP8Anov5H/CmZpKAJNi/89F/X/Ck2r/z0X8j/hTKKAH7R/z0X8j/AIUbB/z0X9f8KZRQA/YP+ei/kf8ACjYv/PRf1/wpmaSgB+1f+ei/kf8ACjaP+ei/kf8ACmUUAO2D/nov5H/Cjav/AD0X8j/hTM0UAP2j/nov5H/Ck2L/AM9F/I/4U2koAftH/PRf1/wpNg/56L+R/wAKbSZoAftX/nov5H/CimUUAc0KUU0UtADqWkFKKAHUopopRQA8UCkpaAHClFNpaAHUopBS0AOpRTaWgBwrq3tdTk+GKvJZzC2iv1dHFvtXYUYFyQOeSBuOewzwBXJ0tADqWm0ooAdS00UtADqWm0tADhRSUtAC0tJRQA4UtNpaAHUUlLQB12jRazD4PvZxBdT6bNHJDFbwxFkZjjdM+BjCY4Y85AA4BxydNpaAFpaSigB1FJRQA7NFJS0ALRSUUAOopM0tAC0UmaWgBc11vg43ghlVYrn7DKZElnRx9nj/AHZBM64+ZQGBALAdcZ5FcjRQAtLmm5paAFopKM0ALRmiigBc0UlFAC0UlFAC0UlFAC0UlFAHVeBTaQ61bzPeRQ3rXUMUMciOcqXG8ghSNxHyjJA+YnPSuZmRY5nRJUmVTgSICFb3GQD+YFR0UALRSUUALmkzRRQAUUUmaAFopKKADNFFJmgBaTNFFABW34Vuru11C4+wWV9dyS2zRkWDlJYwWU7gwVsdAOnesPNFAGl4hh+z+IbyIXMtztk5kmfc+SMkMe7A8E+orNpKKACikooA5oU4UwU4UAOFLTacKAFp1NFKKAHClFNFOoAUU4U2loAcKUU2loAcKUU2loAcKWkpRQAtLSClFAC0tJS0AKKWkooAdS00UtADqWm0tAC0tJRQA6lptLQA6ikpaAFpc02loAWlpuaWgBaWkzRQAtLmkzRQAtLSUUALS02loAXNLTaWgBaKTNGaAFzS0lFAGt4c0211bWUtL2fylZGKAOEMr4+VAxyASeMkGttvCFudL1OQpeWt/bz+VBbTMrZKxiRlOB83AfawxnC8c1y1ldrZzl3tYLpGUq0U6kqc98ggg+4IrYufGep3LIStvH5d1HcxhEI2FE2Ko5+7jseT60AdHF4D0w3k8Ra7lVL5LYYuY0ZUMIkZsFDvIyflXnH0rN0vwpp1z9g8+4uJFuo7qfdEQmY4shMAqcFiCee1Z83jXUpbhZhHbxst6l6PLVhh1QIF+993A5HX3qwPGRjhsZ4beP7ZbG5R43Q+S0crbsDDBhgswx6Y5oAuaf4U0zUreC/ha6W0mtLiXyZLiNWWSLHBkK7Qpz1KjHeq+oeF7KE6ktpLOXt7GG9hDurKVON43AYcDdwy4HaqMfi66hZFis7NbVLaS1W0Cv5eyT75zu3ZOOu6pB4o8yy1DzoRHPNZx2NqkK/u4YQ2WGSS2eO+eSc0Ac9RSUUALRSUUALRSUUALmkzRRQAZopM0ZoAWikooAM0UUlAC0UmaKADNFJRmgAozSUUAFFGaSgAoozRQBzVKKKKAHClFFFAC0tFFADqUUUUAKKWiigBacKKKAFFLRRQAopaKKAFpaKKAFFKKKKAFFLRRQAtLRRQAooFFFAC0ooooAKWiigBaWiigBaKKKAFoFFFAC0UUUALRRRQAtFFFACiiiigApaKKACloooAKKKKAFooooAKKKKACiiigAooooAKKKKACiiigAooooAKKKKACkoooAKKKKACkoooASiiigApKKKACkoooAKKKKAP/9k=)"
      ]
    }
  ]
}