{
 "cells": [
  {
   "cell_type": "code",
   "execution_count": 114,
   "id": "e4165b5b",
   "metadata": {},
   "outputs": [],
   "source": [
    "import numpy as np\n",
    "import pandas as pd\n",
    "import matplotlib.pyplot as plt\n",
    "import seaborn as sns\n",
    "%matplotlib inline"
   ]
  },
  {
   "cell_type": "code",
   "execution_count": 180,
   "id": "f0371135",
   "metadata": {},
   "outputs": [
    {
     "data": {
      "text/html": [
       "<div>\n",
       "<style scoped>\n",
       "    .dataframe tbody tr th:only-of-type {\n",
       "        vertical-align: middle;\n",
       "    }\n",
       "\n",
       "    .dataframe tbody tr th {\n",
       "        vertical-align: top;\n",
       "    }\n",
       "\n",
       "    .dataframe thead th {\n",
       "        text-align: right;\n",
       "    }\n",
       "</style>\n",
       "<table border=\"1\" class=\"dataframe\">\n",
       "  <thead>\n",
       "    <tr style=\"text-align: right;\">\n",
       "      <th></th>\n",
       "      <th>show_id</th>\n",
       "      <th>type</th>\n",
       "      <th>title</th>\n",
       "      <th>director</th>\n",
       "      <th>cast</th>\n",
       "      <th>country</th>\n",
       "      <th>date_added</th>\n",
       "      <th>release_year</th>\n",
       "      <th>rating</th>\n",
       "      <th>duration</th>\n",
       "      <th>listed_in</th>\n",
       "      <th>description</th>\n",
       "    </tr>\n",
       "  </thead>\n",
       "  <tbody>\n",
       "    <tr>\n",
       "      <th>0</th>\n",
       "      <td>s1</td>\n",
       "      <td>Movie</td>\n",
       "      <td>Dick Johnson Is Dead</td>\n",
       "      <td>Kirsten Johnson</td>\n",
       "      <td>NaN</td>\n",
       "      <td>United States</td>\n",
       "      <td>September 25, 2021</td>\n",
       "      <td>2020</td>\n",
       "      <td>PG-13</td>\n",
       "      <td>90 min</td>\n",
       "      <td>Documentaries</td>\n",
       "      <td>As her father nears the end of his life, filmm...</td>\n",
       "    </tr>\n",
       "    <tr>\n",
       "      <th>1</th>\n",
       "      <td>s2</td>\n",
       "      <td>TV Show</td>\n",
       "      <td>Blood &amp; Water</td>\n",
       "      <td>NaN</td>\n",
       "      <td>Ama Qamata, Khosi Ngema, Gail Mabalane, Thaban...</td>\n",
       "      <td>South Africa</td>\n",
       "      <td>September 24, 2021</td>\n",
       "      <td>2021</td>\n",
       "      <td>TV-MA</td>\n",
       "      <td>2 Seasons</td>\n",
       "      <td>International TV Shows, TV Dramas, TV Mysteries</td>\n",
       "      <td>After crossing paths at a party, a Cape Town t...</td>\n",
       "    </tr>\n",
       "    <tr>\n",
       "      <th>2</th>\n",
       "      <td>s3</td>\n",
       "      <td>TV Show</td>\n",
       "      <td>Ganglands</td>\n",
       "      <td>Julien Leclercq</td>\n",
       "      <td>Sami Bouajila, Tracy Gotoas, Samuel Jouy, Nabi...</td>\n",
       "      <td>NaN</td>\n",
       "      <td>September 24, 2021</td>\n",
       "      <td>2021</td>\n",
       "      <td>TV-MA</td>\n",
       "      <td>1 Season</td>\n",
       "      <td>Crime TV Shows, International TV Shows, TV Act...</td>\n",
       "      <td>To protect his family from a powerful drug lor...</td>\n",
       "    </tr>\n",
       "    <tr>\n",
       "      <th>3</th>\n",
       "      <td>s4</td>\n",
       "      <td>TV Show</td>\n",
       "      <td>Jailbirds New Orleans</td>\n",
       "      <td>NaN</td>\n",
       "      <td>NaN</td>\n",
       "      <td>NaN</td>\n",
       "      <td>September 24, 2021</td>\n",
       "      <td>2021</td>\n",
       "      <td>TV-MA</td>\n",
       "      <td>1 Season</td>\n",
       "      <td>Docuseries, Reality TV</td>\n",
       "      <td>Feuds, flirtations and toilet talk go down amo...</td>\n",
       "    </tr>\n",
       "    <tr>\n",
       "      <th>4</th>\n",
       "      <td>s5</td>\n",
       "      <td>TV Show</td>\n",
       "      <td>Kota Factory</td>\n",
       "      <td>NaN</td>\n",
       "      <td>Mayur More, Jitendra Kumar, Ranjan Raj, Alam K...</td>\n",
       "      <td>India</td>\n",
       "      <td>September 24, 2021</td>\n",
       "      <td>2021</td>\n",
       "      <td>TV-MA</td>\n",
       "      <td>2 Seasons</td>\n",
       "      <td>International TV Shows, Romantic TV Shows, TV ...</td>\n",
       "      <td>In a city of coaching centers known to train I...</td>\n",
       "    </tr>\n",
       "  </tbody>\n",
       "</table>\n",
       "</div>"
      ],
      "text/plain": [
       "  show_id     type                  title         director  \\\n",
       "0      s1    Movie   Dick Johnson Is Dead  Kirsten Johnson   \n",
       "1      s2  TV Show          Blood & Water              NaN   \n",
       "2      s3  TV Show              Ganglands  Julien Leclercq   \n",
       "3      s4  TV Show  Jailbirds New Orleans              NaN   \n",
       "4      s5  TV Show           Kota Factory              NaN   \n",
       "\n",
       "                                                cast        country  \\\n",
       "0                                                NaN  United States   \n",
       "1  Ama Qamata, Khosi Ngema, Gail Mabalane, Thaban...   South Africa   \n",
       "2  Sami Bouajila, Tracy Gotoas, Samuel Jouy, Nabi...            NaN   \n",
       "3                                                NaN            NaN   \n",
       "4  Mayur More, Jitendra Kumar, Ranjan Raj, Alam K...          India   \n",
       "\n",
       "           date_added  release_year rating   duration  \\\n",
       "0  September 25, 2021          2020  PG-13     90 min   \n",
       "1  September 24, 2021          2021  TV-MA  2 Seasons   \n",
       "2  September 24, 2021          2021  TV-MA   1 Season   \n",
       "3  September 24, 2021          2021  TV-MA   1 Season   \n",
       "4  September 24, 2021          2021  TV-MA  2 Seasons   \n",
       "\n",
       "                                           listed_in  \\\n",
       "0                                      Documentaries   \n",
       "1    International TV Shows, TV Dramas, TV Mysteries   \n",
       "2  Crime TV Shows, International TV Shows, TV Act...   \n",
       "3                             Docuseries, Reality TV   \n",
       "4  International TV Shows, Romantic TV Shows, TV ...   \n",
       "\n",
       "                                         description  \n",
       "0  As her father nears the end of his life, filmm...  \n",
       "1  After crossing paths at a party, a Cape Town t...  \n",
       "2  To protect his family from a powerful drug lor...  \n",
       "3  Feuds, flirtations and toilet talk go down amo...  \n",
       "4  In a city of coaching centers known to train I...  "
      ]
     },
     "execution_count": 180,
     "metadata": {},
     "output_type": "execute_result"
    }
   ],
   "source": [
    "df = pd.read_csv('C:/Users/Dell/OneDrive\\Desktop/netflix_titles.csv')\n",
    "df.head()"
   ]
  },
  {
   "cell_type": "code",
   "execution_count": 181,
   "id": "976cc065",
   "metadata": {},
   "outputs": [
    {
     "data": {
      "text/plain": [
       "Index(['show_id', 'type', 'title', 'director', 'cast', 'country', 'date_added',\n",
       "       'release_year', 'rating', 'duration', 'listed_in', 'description'],\n",
       "      dtype='object')"
      ]
     },
     "execution_count": 181,
     "metadata": {},
     "output_type": "execute_result"
    }
   ],
   "source": [
    "df.columns"
   ]
  },
  {
   "cell_type": "code",
   "execution_count": 182,
   "id": "f28fbfda",
   "metadata": {},
   "outputs": [
    {
     "name": "stdout",
     "output_type": "stream",
     "text": [
      "<class 'pandas.core.frame.DataFrame'>\n",
      "RangeIndex: 8807 entries, 0 to 8806\n",
      "Data columns (total 12 columns):\n",
      " #   Column        Non-Null Count  Dtype \n",
      "---  ------        --------------  ----- \n",
      " 0   show_id       8807 non-null   object\n",
      " 1   type          8807 non-null   object\n",
      " 2   title         8807 non-null   object\n",
      " 3   director      6173 non-null   object\n",
      " 4   cast          7982 non-null   object\n",
      " 5   country       7976 non-null   object\n",
      " 6   date_added    8797 non-null   object\n",
      " 7   release_year  8807 non-null   int64 \n",
      " 8   rating        8803 non-null   object\n",
      " 9   duration      8804 non-null   object\n",
      " 10  listed_in     8807 non-null   object\n",
      " 11  description   8807 non-null   object\n",
      "dtypes: int64(1), object(11)\n",
      "memory usage: 825.8+ KB\n"
     ]
    }
   ],
   "source": [
    "df.info()"
   ]
  },
  {
   "cell_type": "code",
   "execution_count": 183,
   "id": "e5c0bc14",
   "metadata": {},
   "outputs": [
    {
     "data": {
      "text/html": [
       "<div>\n",
       "<style scoped>\n",
       "    .dataframe tbody tr th:only-of-type {\n",
       "        vertical-align: middle;\n",
       "    }\n",
       "\n",
       "    .dataframe tbody tr th {\n",
       "        vertical-align: top;\n",
       "    }\n",
       "\n",
       "    .dataframe thead th {\n",
       "        text-align: right;\n",
       "    }\n",
       "</style>\n",
       "<table border=\"1\" class=\"dataframe\">\n",
       "  <thead>\n",
       "    <tr style=\"text-align: right;\">\n",
       "      <th></th>\n",
       "      <th>release_year</th>\n",
       "    </tr>\n",
       "  </thead>\n",
       "  <tbody>\n",
       "    <tr>\n",
       "      <th>count</th>\n",
       "      <td>8807.000000</td>\n",
       "    </tr>\n",
       "    <tr>\n",
       "      <th>mean</th>\n",
       "      <td>2014.180198</td>\n",
       "    </tr>\n",
       "    <tr>\n",
       "      <th>std</th>\n",
       "      <td>8.819312</td>\n",
       "    </tr>\n",
       "    <tr>\n",
       "      <th>min</th>\n",
       "      <td>1925.000000</td>\n",
       "    </tr>\n",
       "    <tr>\n",
       "      <th>25%</th>\n",
       "      <td>2013.000000</td>\n",
       "    </tr>\n",
       "    <tr>\n",
       "      <th>50%</th>\n",
       "      <td>2017.000000</td>\n",
       "    </tr>\n",
       "    <tr>\n",
       "      <th>75%</th>\n",
       "      <td>2019.000000</td>\n",
       "    </tr>\n",
       "    <tr>\n",
       "      <th>max</th>\n",
       "      <td>2021.000000</td>\n",
       "    </tr>\n",
       "  </tbody>\n",
       "</table>\n",
       "</div>"
      ],
      "text/plain": [
       "       release_year\n",
       "count   8807.000000\n",
       "mean    2014.180198\n",
       "std        8.819312\n",
       "min     1925.000000\n",
       "25%     2013.000000\n",
       "50%     2017.000000\n",
       "75%     2019.000000\n",
       "max     2021.000000"
      ]
     },
     "execution_count": 183,
     "metadata": {},
     "output_type": "execute_result"
    }
   ],
   "source": [
    "df.describe()"
   ]
  },
  {
   "cell_type": "markdown",
   "id": "d6e90640",
   "metadata": {},
   "source": [
    "DESCRIBE RATINGS DISTRIBUTION\n"
   ]
  },
  {
   "cell_type": "code",
   "execution_count": 184,
   "id": "d8929848",
   "metadata": {},
   "outputs": [
    {
     "data": {
      "image/png": "[encoded data removed]",
      "text/plain": [
       "<Figure size 1080x360 with 1 Axes>"
      ]
     },
     "metadata": {
      "needs_background": "light"
     },
     "output_type": "display_data"
    }
   ],
   "source": [
    "ax = plt.subplots(figsize=(15,5))\n",
    "ax= sns.countplot(x='rating', data=df, palette='magma')"
   ]
  },
  {
   "cell_type": "code",
   "execution_count": 185,
   "id": "17d3e0e1",
   "metadata": {},
   "outputs": [
    {
     "data": {
      "text/html": [
       "<div>\n",
       "<style scoped>\n",
       "    .dataframe tbody tr th:only-of-type {\n",
       "        vertical-align: middle;\n",
       "    }\n",
       "\n",
       "    .dataframe tbody tr th {\n",
       "        vertical-align: top;\n",
       "    }\n",
       "\n",
       "    .dataframe thead th {\n",
       "        text-align: right;\n",
       "    }\n",
       "</style>\n",
       "<table border=\"1\" class=\"dataframe\">\n",
       "  <thead>\n",
       "    <tr style=\"text-align: right;\">\n",
       "      <th></th>\n",
       "      <th>rating</th>\n",
       "      <th>counts</th>\n",
       "    </tr>\n",
       "  </thead>\n",
       "  <tbody>\n",
       "    <tr>\n",
       "      <th>0</th>\n",
       "      <td>66 min</td>\n",
       "      <td>1</td>\n",
       "    </tr>\n",
       "    <tr>\n",
       "      <th>1</th>\n",
       "      <td>74 min</td>\n",
       "      <td>1</td>\n",
       "    </tr>\n",
       "    <tr>\n",
       "      <th>2</th>\n",
       "      <td>84 min</td>\n",
       "      <td>1</td>\n",
       "    </tr>\n",
       "    <tr>\n",
       "      <th>3</th>\n",
       "      <td>G</td>\n",
       "      <td>41</td>\n",
       "    </tr>\n",
       "    <tr>\n",
       "      <th>4</th>\n",
       "      <td>NC-17</td>\n",
       "      <td>3</td>\n",
       "    </tr>\n",
       "  </tbody>\n",
       "</table>\n",
       "</div>"
      ],
      "text/plain": [
       "   rating  counts\n",
       "0  66 min       1\n",
       "1  74 min       1\n",
       "2  84 min       1\n",
       "3       G      41\n",
       "4   NC-17       3"
      ]
     },
     "execution_count": 185,
     "metadata": {},
     "output_type": "execute_result"
    }
   ],
   "source": [
    "z = df.groupby(['rating']).size().reset_index(name='counts')\n",
    "\n",
    "#arr=z.to_numpy()\n",
    "#print(z)\n",
    "z.head()\n"
   ]
  },
  {
   "cell_type": "code",
   "execution_count": 186,
   "id": "acb64994",
   "metadata": {},
   "outputs": [
    {
     "name": "stdout",
     "output_type": "stream",
     "text": [
      "<class 'pandas.core.frame.DataFrame'>\n",
      "RangeIndex: 17 entries, 0 to 16\n",
      "Data columns (total 2 columns):\n",
      " #   Column  Non-Null Count  Dtype \n",
      "---  ------  --------------  ----- \n",
      " 0   rating  17 non-null     object\n",
      " 1   counts  17 non-null     int64 \n",
      "dtypes: int64(1), object(1)\n",
      "memory usage: 400.0+ bytes\n"
     ]
    }
   ],
   "source": [
    "z.info()"
   ]
  },
  {
   "cell_type": "code",
   "execution_count": 187,
   "id": "75f6d2a9",
   "metadata": {
    "scrolled": false
   },
   "outputs": [
    {
     "data": {
      "image/png": "[encoded data removed]",
      "text/plain": [
       "<Figure size 1080x360 with 1 Axes>"
      ]
     },
     "metadata": {
      "needs_background": "light"
     },
     "output_type": "display_data"
    }
   ],
   "source": [
    "ax1= plt.subplots(figsize=(15,5))\n",
    "ax1= sns.lineplot(x= 'rating', y='counts', data=z,  palette='Paired')"
   ]
  },
  {
   "cell_type": "markdown",
   "id": "18779943",
   "metadata": {},
   "source": [
    "**TOP 5 DIRECTORS ON PLATFORM**"
   ]
  },
  {
   "cell_type": "code",
   "execution_count": 188,
   "id": "c17b09f5",
   "metadata": {},
   "outputs": [
    {
     "data": {
      "text/plain": [
       "0                                   Kirsten Johnson\n",
       "1                             NO DIRECTOR SPECIFIED\n",
       "2                                   Julien Leclercq\n",
       "3                             NO DIRECTOR SPECIFIED\n",
       "4                             NO DIRECTOR SPECIFIED\n",
       "5                                     Mike Flanagan\n",
       "6                     Robert Cullen, José Luis Ucha\n",
       "7                                      Haile Gerima\n",
       "8                                   Andy Devonshire\n",
       "9                                    Theodore Melfi\n",
       "10                            NO DIRECTOR SPECIFIED\n",
       "11                                Kongkiat Komesiri\n",
       "12                              Christian Schwochow\n",
       "13                                    Bruno Garotti\n",
       "14                            NO DIRECTOR SPECIFIED\n",
       "15                            NO DIRECTOR SPECIFIED\n",
       "16    Pedro de Echave García, Pablo Azorín Williams\n",
       "17                            NO DIRECTOR SPECIFIED\n",
       "18                                       Adam Salky\n",
       "19                            NO DIRECTOR SPECIFIED\n",
       "20                                  Olivier Megaton\n",
       "21                            NO DIRECTOR SPECIFIED\n",
       "22                                   K.S. Ravikumar\n",
       "23                          Alex Woo, Stanley Moore\n",
       "24                                       S. Shankar\n",
       "25                            NO DIRECTOR SPECIFIED\n",
       "26                                      Rajiv Menon\n",
       "27                                     Dennis Dugan\n",
       "28                                    Scott Stewart\n",
       "29                                   Robert Luketic\n",
       "Name: director, dtype: object"
      ]
     },
     "execution_count": 188,
     "metadata": {},
     "output_type": "execute_result"
    }
   ],
   "source": [
    "df['director']=df['director'].fillna('NO DIRECTOR SPECIFIED')\n",
    "df['director'].head(30)"
   ]
  },
  {
   "cell_type": "code",
   "execution_count": 189,
   "id": "a84d262a",
   "metadata": {},
   "outputs": [
    {
     "data": {
      "text/plain": [
       "0                                   Kirsten Johnson\n",
       "2                                   Julien Leclercq\n",
       "5                                     Mike Flanagan\n",
       "6                     Robert Cullen, José Luis Ucha\n",
       "7                                      Haile Gerima\n",
       "8                                   Andy Devonshire\n",
       "9                                    Theodore Melfi\n",
       "11                                Kongkiat Komesiri\n",
       "12                              Christian Schwochow\n",
       "13                                    Bruno Garotti\n",
       "16    Pedro de Echave García, Pablo Azorín Williams\n",
       "18                                       Adam Salky\n",
       "20                                  Olivier Megaton\n",
       "22                                   K.S. Ravikumar\n",
       "23                          Alex Woo, Stanley Moore\n",
       "Name: director, dtype: object"
      ]
     },
     "execution_count": 189,
     "metadata": {},
     "output_type": "execute_result"
    }
   ],
   "source": [
    "df = df[df['director'] != 'NO DIRECTOR SPECIFIED']\n",
    "df['director'].head(15)"
   ]
  },
  {
   "cell_type": "code",
   "execution_count": 190,
   "id": "7925494f",
   "metadata": {},
   "outputs": [
    {
     "data": {
      "image/png": "[encoded data removed]",
      "text/plain": [
       "<Figure size 864x360 with 1 Axes>"
      ]
     },
     "metadata": {
      "needs_background": "light"
     },
     "output_type": "display_data"
    }
   ],
   "source": [
    "fig,ax = plt.subplots(figsize=(12,5))\n",
    "d = df['director'].value_counts()\n",
    "x = d.index[:5]\n",
    "y = d.values[:5]\n",
    "#ax.plot(x,y,marker='o')\n",
    "#plt.grid()\n",
    "\n",
    "sizes = np.random.uniform(10,8000,5)\n",
    "colors = np.random.uniform(1000,2000,5)\n",
    "\n",
    "ax.scatter(x, y, s=sizes, c=colors, vmin=10, vmax=20)\n",
    "\n",
    "plt.grid()\n",
    "ax.set_title('TOP 5 DIRECTORS')\n",
    "ax.set_xlabel('DIRECTORS')\n",
    "ax.set_ylabel('TOTAL CONTENT')\n",
    "plt.show()"
   ]
  },
  {
   "cell_type": "code",
   "execution_count": 191,
   "id": "0a6e3cb4",
   "metadata": {},
   "outputs": [
    {
     "data": {
      "text/plain": [
       "Rajiv Chilaka             19\n",
       "Raúl Campos, Jan Suter    18\n",
       "Marcus Raboy              16\n",
       "Suhas Kadav               16\n",
       "Jay Karas                 14\n",
       "Name: director, dtype: int64"
      ]
     },
     "execution_count": 191,
     "metadata": {},
     "output_type": "execute_result"
    }
   ],
   "source": [
    "d.head()\n"
   ]
  },
  {
   "cell_type": "code",
   "execution_count": 169,
   "id": "297f665d",
   "metadata": {
    "scrolled": true
   },
   "outputs": [
    {
     "data": {
      "image/png": "[encoded data removed]",
      "text/plain": [
       "<Figure size 2160x360 with 1 Axes>"
      ]
     },
     "metadata": {
      "needs_background": "light"
     },
     "output_type": "display_data"
    }
   ],
   "source": [
    "ax = plt.subplots(figsize=(30,5))\n",
    "ax= sns.countplot(x= 'director', data= df, palette= 'magma')"
   ]
  },
  {
   "cell_type": "code",
   "execution_count": 108,
   "id": "0dcbf3f6",
   "metadata": {},
   "outputs": [
    {
     "data": {
      "image/png": "[encoded data removed]",
      "text/plain": [
       "<Figure size 576x360 with 1 Axes>"
      ]
     },
     "metadata": {
      "needs_background": "light"
     },
     "output_type": "display_data"
    }
   ],
   "source": [
    "ax = plt.subplots(figsize=(8,5))\n",
    "ax= sns.countplot(x= 'director', data= top_directors, palette= 'magma')"
   ]
  },
  {
   "cell_type": "markdown",
   "id": "0cad2364",
   "metadata": {},
   "source": [
    "**TOP 5 ACTOR ON PLATFORM**"
   ]
  },
  {
   "cell_type": "code",
   "execution_count": 192,
   "id": "0b367b9a",
   "metadata": {},
   "outputs": [
    {
     "data": {
      "text/plain": [
       "0                                     NO CAST SPECIFIED\n",
       "2     Sami Bouajila, Tracy Gotoas, Samuel Jouy, Nabi...\n",
       "5     Kate Siegel, Zach Gilford, Hamish Linklater, H...\n",
       "6     Vanessa Hudgens, Kimiko Glenn, James Marsden, ...\n",
       "7     Kofi Ghanaba, Oyafunmike Ogunlano, Alexandra D...\n",
       "8     Mel Giedroyc, Sue Perkins, Mary Berry, Paul Ho...\n",
       "9     Melissa McCarthy, Chris O'Dowd, Kevin Kline, T...\n",
       "11    Sukollawat Kanarot, Sushar Manaying, Pavarit M...\n",
       "12    Luna Wedler, Jannis Niewöhner, Milan Peschel, ...\n",
       "13    Klara Castanho, Lucca Picon, Júlia Gomes, Marc...\n",
       "Name: cast, dtype: object"
      ]
     },
     "execution_count": 192,
     "metadata": {},
     "output_type": "execute_result"
    }
   ],
   "source": [
    "df['cast'] = df['cast'].fillna('NO CAST SPECIFIED')\n",
    "df['cast'].head(10)"
   ]
  },
  {
   "cell_type": "code",
   "execution_count": 193,
   "id": "4d9f8be7",
   "metadata": {
    "scrolled": true
   },
   "outputs": [
    {
     "data": {
      "text/plain": [
       "2     Sami Bouajila, Tracy Gotoas, Samuel Jouy, Nabi...\n",
       "5     Kate Siegel, Zach Gilford, Hamish Linklater, H...\n",
       "6     Vanessa Hudgens, Kimiko Glenn, James Marsden, ...\n",
       "7     Kofi Ghanaba, Oyafunmike Ogunlano, Alexandra D...\n",
       "8     Mel Giedroyc, Sue Perkins, Mary Berry, Paul Ho...\n",
       "9     Melissa McCarthy, Chris O'Dowd, Kevin Kline, T...\n",
       "11    Sukollawat Kanarot, Sushar Manaying, Pavarit M...\n",
       "12    Luna Wedler, Jannis Niewöhner, Milan Peschel, ...\n",
       "13    Klara Castanho, Lucca Picon, Júlia Gomes, Marc...\n",
       "18    Freida Pinto, Logan Marshall-Green, Robert Joh...\n",
       "22    Kamal Hassan, Meena, Gemini Ganesan, Heera Raj...\n",
       "23    Maisie Benson, Paul Killam, Kerry Gudjohnsen, ...\n",
       "24    Prashanth, Aishwarya Rai Bachchan, Sri Lakshmi...\n",
       "26    Arvind Swamy, Kajol, Prabhu Deva, Nassar, S.P....\n",
       "27    Adam Sandler, Kevin James, Chris Rock, David S...\n",
       "28    Keri Russell, Josh Hamilton, J.K. Simmons, Dak...\n",
       "29    Liam Hemsworth, Gary Oldman, Amber Heard, Harr...\n",
       "30    Abhishek Banerjee, Rinku Rajguru, Delzad Hiwal...\n",
       "35    Adrian Titieni, Elena Purea, Judith State, Val...\n",
       "36    Gilles Lellouche, Karim Leklou, François Civil...\n",
       "38    Billy Magnussen, Ron Yuan, Qu Jingjing, Terry ...\n",
       "41    Roy Scheider, Robert Shaw, Richard Dreyfuss, L...\n",
       "42    Roy Scheider, Lorraine Gary, Murray Hamilton, ...\n",
       "43    Dennis Quaid, Bess Armstrong, Simon MacCorkind...\n",
       "44    Lorraine Gary, Lance Guest, Mario Van Peebles,...\n",
       "46    Denzel Washington, Ryan Reynolds, Vera Farmiga...\n",
       "47    Osas Ighodaro, Ini Dima-Okojie, Kemi Lala Akin...\n",
       "48    Denzel Washington, Ethan Hawke, Scott Glenn, T...\n",
       "51    Kappei Yamaguchi, Satsuki Yukino, Mieko Harada...\n",
       "52    Kappei Yamaguchi, Satsuki Yukino, Koji Tsujita...\n",
       "Name: cast, dtype: object"
      ]
     },
     "execution_count": 193,
     "metadata": {},
     "output_type": "execute_result"
    }
   ],
   "source": [
    "df = df[df['cast'] != 'NO CAST SPECIFIED']\n",
    "df['cast'].head(30)"
   ]
  },
  {
   "cell_type": "code",
   "execution_count": 284,
   "id": "be7eded6",
   "metadata": {
    "scrolled": true
   },
   "outputs": [
    {
     "name": "stdout",
     "output_type": "stream",
     "text": [
      "2     0             Sami Bouajila\n",
      "      1              Tracy Gotoas\n",
      "      2               Samuel Jouy\n",
      "      3             Nabiha Akkari\n",
      "      4            Sofia Lesaffre\n",
      "                    ...          \n",
      "8806  3          Manish Chaudhary\n",
      "      4              Meghna Malik\n",
      "      5             Malkeet Rauni\n",
      "      6            Anita Shabdish\n",
      "      7     Chittaranjan Tripathy\n",
      "Length: 45465, dtype: object\n"
     ]
    }
   ],
   "source": [
    "filtered_cast = pd.DataFrame\n",
    "filtered_cast = df['cast'].str.split(',',expand = True).stack()\n",
    "print(filtered_cast)"
   ]
  },
  {
   "cell_type": "code",
   "execution_count": 279,
   "id": "96031cb0",
   "metadata": {},
   "outputs": [],
   "source": [
    "filtered_cast = filtered_cast.to_frame()"
   ]
  },
  {
   "cell_type": "code",
   "execution_count": 283,
   "id": "cf41a837",
   "metadata": {},
   "outputs": [
    {
     "data": {
      "text/html": [
       "<div>\n",
       "<style scoped>\n",
       "    .dataframe tbody tr th:only-of-type {\n",
       "        vertical-align: middle;\n",
       "    }\n",
       "\n",
       "    .dataframe tbody tr th {\n",
       "        vertical-align: top;\n",
       "    }\n",
       "\n",
       "    .dataframe thead th {\n",
       "        text-align: right;\n",
       "    }\n",
       "</style>\n",
       "<table border=\"1\" class=\"dataframe\">\n",
       "  <thead>\n",
       "    <tr style=\"text-align: right;\">\n",
       "      <th></th>\n",
       "      <th>Actor</th>\n",
       "      <th>total_content</th>\n",
       "    </tr>\n",
       "  </thead>\n",
       "  <tbody>\n",
       "    <tr>\n",
       "      <th>1998</th>\n",
       "      <td>Anupam Kher</td>\n",
       "      <td>38</td>\n",
       "    </tr>\n",
       "    <tr>\n",
       "      <th>19806</th>\n",
       "      <td>Rupa Bhimani</td>\n",
       "      <td>27</td>\n",
       "    </tr>\n",
       "    <tr>\n",
       "      <th>17280</th>\n",
       "      <td>Om Puri</td>\n",
       "      <td>27</td>\n",
       "    </tr>\n",
       "    <tr>\n",
       "      <th>28087</th>\n",
       "      <td>Shah Rukh Khan</td>\n",
       "      <td>26</td>\n",
       "    </tr>\n",
       "    <tr>\n",
       "      <th>3196</th>\n",
       "      <td>Boman Irani</td>\n",
       "      <td>25</td>\n",
       "    </tr>\n",
       "  </tbody>\n",
       "</table>\n",
       "</div>"
      ],
      "text/plain": [
       "                Actor  total_content\n",
       "1998      Anupam Kher             38\n",
       "19806    Rupa Bhimani             27\n",
       "17280         Om Puri             27\n",
       "28087  Shah Rukh Khan             26\n",
       "3196      Boman Irani             25"
      ]
     },
     "execution_count": 283,
     "metadata": {},
     "output_type": "execute_result"
    }
   ],
   "source": [
    "filtered_cast.columns = ['Actor']\n",
    "actors = filtered_cast.groupby(['Actor']).size().reset_index(name='total_content')\n",
    "actors = actors.sort_values(by=['total_content'],ascending = False)\n",
    "actors.head()"
   ]
  },
  {
   "cell_type": "code",
   "execution_count": 286,
   "id": "d854504d",
   "metadata": {},
   "outputs": [
    {
     "name": "stdout",
     "output_type": "stream",
     "text": [
      "1998        Anupam Kher\n",
      "19806      Rupa Bhimani\n",
      "17280           Om Puri\n",
      "28087    Shah Rukh Khan\n",
      "3196        Boman Irani\n",
      "Name: Actor, dtype: object 1998     38\n",
      "19806    27\n",
      "17280    27\n",
      "28087    26\n",
      "3196     25\n",
      "Name: total_content, dtype: int64\n"
     ]
    }
   ],
   "source": [
    "\n",
    "print(x1,y1)"
   ]
  },
  {
   "cell_type": "code",
   "execution_count": 287,
   "id": "f110e29b",
   "metadata": {
    "scrolled": false
   },
   "outputs": [
    {
     "data": {
      "image/png": "[encoded data removed]",
      "text/plain": [
       "<Figure size 1440x720 with 1 Axes>"
      ]
     },
     "metadata": {},
     "output_type": "display_data"
    },
    {
     "data": {
      "text/plain": [
       "Text(3.200000000000017, 0.5, 'TOTAL CONTENT')"
      ]
     },
     "execution_count": 287,
     "metadata": {},
     "output_type": "execute_result"
    }
   ],
   "source": [
    "fig,ax = plt.subplots(figsize = (20,10))\n",
    "\n",
    "x = actors.Actor[:5]\n",
    "y = actors.total_content[:5]\n",
    "\n",
    "ax.stem(x, y, linefmt= 'red', markerfmt= 'D') \n",
    "plt.grid()\n",
    "#ax.plot(x1,y1,marker='x',color='red')\n",
    "plt.show()\n",
    "\n",
    "ax.set_title('TOP 5 ACTORS')\n",
    "ax.set_xlabel('ACTOR')\n",
    "ax.set_ylabel('TOTAL CONTENT')"
   ]
  },
  {
   "cell_type": "markdown",
   "id": "18e4f97d",
   "metadata": {},
   "source": [
    "**Analyzing Content on Netflix Over 10 Years**"
   ]
  },
  {
   "cell_type": "code",
   "execution_count": 200,
   "id": "6b768940",
   "metadata": {},
   "outputs": [
    {
     "name": "stdout",
     "output_type": "stream",
     "text": [
      "         type  release_year\n",
      "2     TV Show          2021\n",
      "5     TV Show          2021\n",
      "6       Movie          2021\n",
      "7       Movie          1993\n",
      "8     TV Show          2021\n",
      "...       ...           ...\n",
      "8801    Movie          2015\n",
      "8802    Movie          2007\n",
      "8804    Movie          2009\n",
      "8805    Movie          2006\n",
      "8806    Movie          2015\n",
      "\n",
      "[5700 rows x 2 columns]\n"
     ]
    }
   ],
   "source": [
    "df2 = df[['type', 'release_year']]\n",
    "print(df2)"
   ]
  },
  {
   "cell_type": "code",
   "execution_count": 201,
   "id": "f0c093f5",
   "metadata": {},
   "outputs": [
    {
     "name": "stdout",
     "output_type": "stream",
     "text": [
      "    Release Year     type  TOTAL CONTENT\n",
      "0           1942    Movie              1\n",
      "1           1944    Movie              1\n",
      "2           1945    Movie              1\n",
      "3           1946    Movie              1\n",
      "4           1947    Movie              1\n",
      "..           ...      ...            ...\n",
      "83          2019  TV Show             26\n",
      "84          2020    Movie            458\n",
      "85          2020  TV Show             41\n",
      "86          2021    Movie            227\n",
      "87          2021  TV Show             29\n",
      "\n",
      "[88 rows x 3 columns]\n"
     ]
    }
   ],
   "source": [
    "df2 = df2.rename(columns={'release_year':'Release Year'})\n",
    "df_2 = df2.groupby(['Release Year','type']).size().reset_index(name = 'TOTAL CONTENT')\n",
    "print(df_2)"
   ]
  },
  {
   "cell_type": "code",
   "execution_count": 202,
   "id": "9a097a14",
   "metadata": {},
   "outputs": [
    {
     "name": "stdout",
     "output_type": "stream",
     "text": [
      "    Release Year     type  TOTAL CONTENT\n",
      "64          2010    Movie            145\n",
      "65          2010  TV Show              1\n",
      "66          2011    Movie            137\n",
      "67          2011  TV Show              3\n",
      "68          2012    Movie            165\n",
      "69          2012  TV Show              4\n",
      "70          2013    Movie            207\n",
      "71          2013  TV Show              2\n",
      "72          2014    Movie            244\n",
      "73          2014  TV Show              8\n",
      "74          2015    Movie            356\n",
      "75          2015  TV Show             11\n",
      "76          2016    Movie            574\n",
      "77          2016  TV Show             10\n",
      "78          2017    Movie            665\n",
      "79          2017  TV Show             19\n",
      "80          2018    Movie            673\n",
      "81          2018  TV Show             18\n",
      "82          2019    Movie            544\n",
      "83          2019  TV Show             26\n",
      "84          2020    Movie            458\n",
      "85          2020  TV Show             41\n",
      "86          2021    Movie            227\n",
      "87          2021  TV Show             29\n"
     ]
    }
   ],
   "source": [
    "df_2 = df_2[df_2['Release Year']>=2010]\n",
    "print(df_2)"
   ]
  },
  {
   "cell_type": "code",
   "execution_count": 229,
   "id": "550a97f3",
   "metadata": {},
   "outputs": [
    {
     "data": {
      "text/plain": [
       "<seaborn.axisgrid.FacetGrid at 0x18477bcf610>"
      ]
     },
     "execution_count": 229,
     "metadata": {},
     "output_type": "execute_result"
    },
    {
     "data": {
      "image/png": "[encoded data removed]",
      "text/plain": [
       "<Figure size 620.425x360 with 2 Axes>"
      ]
     },
     "metadata": {},
     "output_type": "display_data"
    }
   ],
   "source": [
    "#fig, axes = plt.subplots(figsize=(30,10), sharex=True, sharey=True)\n",
    "\n",
    "sns.set_theme(style='ticks')\n",
    "#sns.displot(data= df_2, x= 'TOTAL CONTENT', hue = 'Release Year', kind= 'kde', palette=\"ch:rot=-.25,hue=1,light=.75\")\n",
    "\n",
    "\n",
    "sns.displot(data = df_2, x= 'TOTAL CONTENT', col= 'type', hue='Release Year', kind= 'ecdf', palette='magma',  aspect=.75, linewidth=2)"
   ]
  },
  {
   "cell_type": "code",
   "execution_count": 258,
   "id": "3a7e46c9",
   "metadata": {
    "scrolled": false
   },
   "outputs": [
    {
     "data": {
      "image/png": "[encoded data removed]",
      "text/plain": [
       "<Figure size 444.35x360 with 1 Axes>"
      ]
     },
     "metadata": {},
     "output_type": "display_data"
    }
   ],
   "source": [
    "sns.set_theme(style=\"whitegrid\")\n",
    "g = sns.catplot(data= df_2, y='TOTAL CONTENT', x='Release Year',hue= 'type',ci='sd',palette ='magma')\n",
    "sns.despine(left=True)"
   ]
  },
  {
   "cell_type": "markdown",
   "id": "99231b08",
   "metadata": {},
   "source": [
    "**SENTIMENT ANALYSIS**"
   ]
  },
  {
   "cell_type": "code",
   "execution_count": 263,
   "id": "0e175939",
   "metadata": {},
   "outputs": [
    {
     "name": "stdout",
     "output_type": "stream",
     "text": [
      "Collecting textblob\n",
      "  Downloading textblob-0.17.1-py2.py3-none-any.whl (636 kB)\n",
      "Requirement already satisfied: nltk>=3.1 in d:\\anaconda\\lib\\site-packages (from textblob) (3.6.5)\n",
      "Requirement already satisfied: click in d:\\anaconda\\lib\\site-packages (from nltk>=3.1->textblob) (8.0.3)\n",
      "Requirement already satisfied: joblib in d:\\anaconda\\lib\\site-packages (from nltk>=3.1->textblob) (1.1.0)\n",
      "Requirement already satisfied: regex>=2021.8.3 in d:\\anaconda\\lib\\site-packages (from nltk>=3.1->textblob) (2021.8.3)\n",
      "Requirement already satisfied: tqdm in d:\\anaconda\\lib\\site-packages (from nltk>=3.1->textblob) (4.62.3)\n",
      "Requirement already satisfied: colorama in d:\\anaconda\\lib\\site-packages (from click->nltk>=3.1->textblob) (0.4.4)\n",
      "Installing collected packages: textblob\n",
      "Successfully installed textblob-0.17.1\n"
     ]
    }
   ],
   "source": [
    "!pip install textblob\n",
    "from textblob import TextBlob"
   ]
  },
  {
   "cell_type": "code",
   "execution_count": 264,
   "id": "01d4ec2a",
   "metadata": {},
   "outputs": [
    {
     "data": {
      "text/html": [
       "<div>\n",
       "<style scoped>\n",
       "    .dataframe tbody tr th:only-of-type {\n",
       "        vertical-align: middle;\n",
       "    }\n",
       "\n",
       "    .dataframe tbody tr th {\n",
       "        vertical-align: top;\n",
       "    }\n",
       "\n",
       "    .dataframe thead th {\n",
       "        text-align: right;\n",
       "    }\n",
       "</style>\n",
       "<table border=\"1\" class=\"dataframe\">\n",
       "  <thead>\n",
       "    <tr style=\"text-align: right;\">\n",
       "      <th></th>\n",
       "      <th>Release Year</th>\n",
       "      <th>Sentiment</th>\n",
       "      <th>TOTAL CONTENT</th>\n",
       "    </tr>\n",
       "  </thead>\n",
       "  <tbody>\n",
       "    <tr>\n",
       "      <th>142</th>\n",
       "      <td>2010</td>\n",
       "      <td>negative</td>\n",
       "      <td>44</td>\n",
       "    </tr>\n",
       "    <tr>\n",
       "      <th>143</th>\n",
       "      <td>2010</td>\n",
       "      <td>neutral</td>\n",
       "      <td>27</td>\n",
       "    </tr>\n",
       "    <tr>\n",
       "      <th>144</th>\n",
       "      <td>2010</td>\n",
       "      <td>positive</td>\n",
       "      <td>75</td>\n",
       "    </tr>\n",
       "    <tr>\n",
       "      <th>145</th>\n",
       "      <td>2011</td>\n",
       "      <td>negative</td>\n",
       "      <td>39</td>\n",
       "    </tr>\n",
       "    <tr>\n",
       "      <th>146</th>\n",
       "      <td>2011</td>\n",
       "      <td>neutral</td>\n",
       "      <td>23</td>\n",
       "    </tr>\n",
       "  </tbody>\n",
       "</table>\n",
       "</div>"
      ],
      "text/plain": [
       "     Release Year Sentiment  TOTAL CONTENT\n",
       "142          2010  negative             44\n",
       "143          2010   neutral             27\n",
       "144          2010  positive             75\n",
       "145          2011  negative             39\n",
       "146          2011   neutral             23"
      ]
     },
     "execution_count": 264,
     "metadata": {},
     "output_type": "execute_result"
    }
   ],
   "source": [
    "dfs = df[['release_year','description']]\n",
    "dfs = dfs.rename(columns={'release_year':'Release Year'})\n",
    "\n",
    "for index,row in dfs.iterrows():\n",
    "    z= row['description']\n",
    "    testimonial = TextBlob(z)\n",
    "    p= testimonial.sentiment.polarity\n",
    "    if p==0:\n",
    "        sent='neutral'\n",
    "    elif p>0:\n",
    "        sent='positive'\n",
    "    else:\n",
    "        sent='negative'\n",
    "        \n",
    "    dfs.loc[[index,2],'Sentiment']=sent\n",
    "\n",
    "dfs= dfs.groupby(['Release Year','Sentiment']).size().reset_index(name='TOTAL CONTENT')\n",
    "dfs= dfs[dfs['Release Year']>=2010]\n",
    "dfs.head()\n",
    "    \n",
    "    "
   ]
  },
  {
   "cell_type": "code",
   "execution_count": 272,
   "id": "7a33865f",
   "metadata": {},
   "outputs": [
    {
     "data": {
      "text/plain": [
       "<AxesSubplot:xlabel='Release Year', ylabel='TOTAL CONTENT'>"
      ]
     },
     "execution_count": 272,
     "metadata": {},
     "output_type": "execute_result"
    },
    {
     "data": {
      "image/png": "[encoded data removed]",
      "text/plain": [
       "<Figure size 432x288 with 1 Axes>"
      ]
     },
     "metadata": {},
     "output_type": "display_data"
    }
   ],
   "source": [
    "sns.set_theme(style= 'darkgrid')\n",
    "sns.barplot(data= dfs, x= 'Release Year', y= 'TOTAL CONTENT', hue='Sentiment', \n",
    "              palette= {'negative':'r', 'positive':'g', 'neutral':'blue'} )\n",
    "#sns.displine(left = True)\n"
   ]
  }
 ],
 "metadata": {
  "kernelspec": {
   "display_name": "Python 3 (ipykernel)",
   "language": "python",
   "name": "python3"
  },
  "language_info": {
   "codemirror_mode": {
    "name": "ipython",
    "version": 3
   },
   "file_extension": ".py",
   "mimetype": "text/x-python",
   "name": "python",
   "nbconvert_exporter": "python",
   "pygments_lexer": "ipython3",
   "version": "3.9.7"
  }
 },
 "nbformat": 4,
 "nbformat_minor": 5
}
